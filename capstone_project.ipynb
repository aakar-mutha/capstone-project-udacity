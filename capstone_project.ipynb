{
 "cells": [
  {
   "cell_type": "markdown",
   "metadata": {},
   "source": [
    "### Loading all the necessary libraries"
   ]
  },
  {
   "cell_type": "code",
   "execution_count": 1,
   "metadata": {},
   "outputs": [],
   "source": [
    "import pandas as pd\n",
    "import seaborn as sns\n",
    "import matplotlib.pyplot as plt\n",
    "%matplotlib inline\n",
    "import numpy as np"
   ]
  },
  {
   "cell_type": "markdown",
   "metadata": {},
   "source": [
    "### [Reading the CSV file](/edit/who_suicide_statistics.csv)"
   ]
  },
  {
   "cell_type": "code",
   "execution_count": 2,
   "metadata": {
    "colab": {},
    "colab_type": "code",
    "id": "Z7SWaBAlg_LX"
   },
   "outputs": [],
   "source": [
    "data = pd.read_csv('who_suicide_statistics.csv')"
   ]
  },
  {
   "cell_type": "code",
   "execution_count": 3,
   "metadata": {
    "colab": {
     "base_uri": "https://localhost:8080/",
     "height": 204
    },
    "colab_type": "code",
    "id": "DLkzClUWhRBk",
    "outputId": "306a2bd3-213f-4d4b-dfc5-ac217c8e3694"
   },
   "outputs": [
    {
     "data": {
      "text/html": [
       "<div>\n",
       "<style scoped>\n",
       "    .dataframe tbody tr th:only-of-type {\n",
       "        vertical-align: middle;\n",
       "    }\n",
       "\n",
       "    .dataframe tbody tr th {\n",
       "        vertical-align: top;\n",
       "    }\n",
       "\n",
       "    .dataframe thead th {\n",
       "        text-align: right;\n",
       "    }\n",
       "</style>\n",
       "<table border=\"1\" class=\"dataframe\">\n",
       "  <thead>\n",
       "    <tr style=\"text-align: right;\">\n",
       "      <th></th>\n",
       "      <th>country</th>\n",
       "      <th>year</th>\n",
       "      <th>sex</th>\n",
       "      <th>age</th>\n",
       "      <th>suicides_no</th>\n",
       "      <th>population</th>\n",
       "    </tr>\n",
       "  </thead>\n",
       "  <tbody>\n",
       "    <tr>\n",
       "      <th>0</th>\n",
       "      <td>Albania</td>\n",
       "      <td>1985</td>\n",
       "      <td>female</td>\n",
       "      <td>15-24 years</td>\n",
       "      <td>NaN</td>\n",
       "      <td>277900.0</td>\n",
       "    </tr>\n",
       "    <tr>\n",
       "      <th>1</th>\n",
       "      <td>Albania</td>\n",
       "      <td>1985</td>\n",
       "      <td>female</td>\n",
       "      <td>25-34 years</td>\n",
       "      <td>NaN</td>\n",
       "      <td>246800.0</td>\n",
       "    </tr>\n",
       "    <tr>\n",
       "      <th>2</th>\n",
       "      <td>Albania</td>\n",
       "      <td>1985</td>\n",
       "      <td>female</td>\n",
       "      <td>35-54 years</td>\n",
       "      <td>NaN</td>\n",
       "      <td>267500.0</td>\n",
       "    </tr>\n",
       "    <tr>\n",
       "      <th>3</th>\n",
       "      <td>Albania</td>\n",
       "      <td>1985</td>\n",
       "      <td>female</td>\n",
       "      <td>5-14 years</td>\n",
       "      <td>NaN</td>\n",
       "      <td>298300.0</td>\n",
       "    </tr>\n",
       "    <tr>\n",
       "      <th>4</th>\n",
       "      <td>Albania</td>\n",
       "      <td>1985</td>\n",
       "      <td>female</td>\n",
       "      <td>55-74 years</td>\n",
       "      <td>NaN</td>\n",
       "      <td>138700.0</td>\n",
       "    </tr>\n",
       "  </tbody>\n",
       "</table>\n",
       "</div>"
      ],
      "text/plain": [
       "   country  year     sex          age  suicides_no  population\n",
       "0  Albania  1985  female  15-24 years          NaN    277900.0\n",
       "1  Albania  1985  female  25-34 years          NaN    246800.0\n",
       "2  Albania  1985  female  35-54 years          NaN    267500.0\n",
       "3  Albania  1985  female   5-14 years          NaN    298300.0\n",
       "4  Albania  1985  female  55-74 years          NaN    138700.0"
      ]
     },
     "execution_count": 3,
     "metadata": {},
     "output_type": "execute_result"
    }
   ],
   "source": [
    "data.head()"
   ]
  },
  {
   "cell_type": "code",
   "execution_count": 4,
   "metadata": {
    "colab": {
     "base_uri": "https://localhost:8080/",
     "height": 34
    },
    "colab_type": "code",
    "id": "N310rASZhS6P",
    "outputId": "85b60e3e-5c67-4ff6-92f8-a7674ce6f476"
   },
   "outputs": [
    {
     "data": {
      "text/plain": [
       "(43776, 6)"
      ]
     },
     "execution_count": 4,
     "metadata": {},
     "output_type": "execute_result"
    }
   ],
   "source": [
    "# Checking for the total data points\n",
    "data.shape"
   ]
  },
  {
   "cell_type": "code",
   "execution_count": 5,
   "metadata": {
    "colab": {
     "base_uri": "https://localhost:8080/",
     "height": 297
    },
    "colab_type": "code",
    "id": "JhD_4gb4hX8M",
    "outputId": "0925f300-2971-4b86-e1d6-548cc1e8c2b8"
   },
   "outputs": [
    {
     "data": {
      "text/html": [
       "<div>\n",
       "<style scoped>\n",
       "    .dataframe tbody tr th:only-of-type {\n",
       "        vertical-align: middle;\n",
       "    }\n",
       "\n",
       "    .dataframe tbody tr th {\n",
       "        vertical-align: top;\n",
       "    }\n",
       "\n",
       "    .dataframe thead th {\n",
       "        text-align: right;\n",
       "    }\n",
       "</style>\n",
       "<table border=\"1\" class=\"dataframe\">\n",
       "  <thead>\n",
       "    <tr style=\"text-align: right;\">\n",
       "      <th></th>\n",
       "      <th>year</th>\n",
       "      <th>suicides_no</th>\n",
       "      <th>population</th>\n",
       "    </tr>\n",
       "  </thead>\n",
       "  <tbody>\n",
       "    <tr>\n",
       "      <th>count</th>\n",
       "      <td>43776.000000</td>\n",
       "      <td>41520.000000</td>\n",
       "      <td>3.831600e+04</td>\n",
       "    </tr>\n",
       "    <tr>\n",
       "      <th>mean</th>\n",
       "      <td>1998.502467</td>\n",
       "      <td>193.315390</td>\n",
       "      <td>1.664091e+06</td>\n",
       "    </tr>\n",
       "    <tr>\n",
       "      <th>std</th>\n",
       "      <td>10.338711</td>\n",
       "      <td>800.589926</td>\n",
       "      <td>3.647231e+06</td>\n",
       "    </tr>\n",
       "    <tr>\n",
       "      <th>min</th>\n",
       "      <td>1979.000000</td>\n",
       "      <td>0.000000</td>\n",
       "      <td>2.590000e+02</td>\n",
       "    </tr>\n",
       "    <tr>\n",
       "      <th>25%</th>\n",
       "      <td>1990.000000</td>\n",
       "      <td>1.000000</td>\n",
       "      <td>8.511275e+04</td>\n",
       "    </tr>\n",
       "    <tr>\n",
       "      <th>50%</th>\n",
       "      <td>1999.000000</td>\n",
       "      <td>14.000000</td>\n",
       "      <td>3.806550e+05</td>\n",
       "    </tr>\n",
       "    <tr>\n",
       "      <th>75%</th>\n",
       "      <td>2007.000000</td>\n",
       "      <td>91.000000</td>\n",
       "      <td>1.305698e+06</td>\n",
       "    </tr>\n",
       "    <tr>\n",
       "      <th>max</th>\n",
       "      <td>2016.000000</td>\n",
       "      <td>22338.000000</td>\n",
       "      <td>4.380521e+07</td>\n",
       "    </tr>\n",
       "  </tbody>\n",
       "</table>\n",
       "</div>"
      ],
      "text/plain": [
       "               year   suicides_no    population\n",
       "count  43776.000000  41520.000000  3.831600e+04\n",
       "mean    1998.502467    193.315390  1.664091e+06\n",
       "std       10.338711    800.589926  3.647231e+06\n",
       "min     1979.000000      0.000000  2.590000e+02\n",
       "25%     1990.000000      1.000000  8.511275e+04\n",
       "50%     1999.000000     14.000000  3.806550e+05\n",
       "75%     2007.000000     91.000000  1.305698e+06\n",
       "max     2016.000000  22338.000000  4.380521e+07"
      ]
     },
     "execution_count": 5,
     "metadata": {},
     "output_type": "execute_result"
    }
   ],
   "source": [
    "data.describe()"
   ]
  },
  {
   "cell_type": "code",
   "execution_count": 6,
   "metadata": {
    "colab": {
     "base_uri": "https://localhost:8080/",
     "height": 136
    },
    "colab_type": "code",
    "id": "J9p07AAchb93",
    "outputId": "b80a1035-718e-42b3-90b3-dcdeee3d4d60"
   },
   "outputs": [
    {
     "data": {
      "text/plain": [
       "country           0\n",
       "year              0\n",
       "sex               0\n",
       "age               0\n",
       "suicides_no    2256\n",
       "population     5460\n",
       "dtype: int64"
      ]
     },
     "execution_count": 6,
     "metadata": {},
     "output_type": "execute_result"
    }
   ],
   "source": [
    "# Checking for any null values \n",
    "data.isnull().sum()"
   ]
  },
  {
   "cell_type": "markdown",
   "metadata": {},
   "source": [
    "## Sorting the dataframe in ascending order according to year"
   ]
  },
  {
   "cell_type": "code",
   "execution_count": 7,
   "metadata": {
    "colab": {},
    "colab_type": "code",
    "id": "zTxXUttYhhMl"
   },
   "outputs": [
    {
     "data": {
      "text/html": [
       "<div>\n",
       "<style scoped>\n",
       "    .dataframe tbody tr th:only-of-type {\n",
       "        vertical-align: middle;\n",
       "    }\n",
       "\n",
       "    .dataframe tbody tr th {\n",
       "        vertical-align: top;\n",
       "    }\n",
       "\n",
       "    .dataframe thead th {\n",
       "        text-align: right;\n",
       "    }\n",
       "</style>\n",
       "<table border=\"1\" class=\"dataframe\">\n",
       "  <thead>\n",
       "    <tr style=\"text-align: right;\">\n",
       "      <th></th>\n",
       "      <th>country</th>\n",
       "      <th>year</th>\n",
       "      <th>sex</th>\n",
       "      <th>age</th>\n",
       "      <th>suicides_no</th>\n",
       "      <th>population</th>\n",
       "    </tr>\n",
       "  </thead>\n",
       "  <tbody>\n",
       "    <tr>\n",
       "      <th>6204</th>\n",
       "      <td>Brazil</td>\n",
       "      <td>1979</td>\n",
       "      <td>female</td>\n",
       "      <td>15-24 years</td>\n",
       "      <td>385.0</td>\n",
       "      <td>12448100.0</td>\n",
       "    </tr>\n",
       "    <tr>\n",
       "      <th>26470</th>\n",
       "      <td>Netherlands</td>\n",
       "      <td>1979</td>\n",
       "      <td>male</td>\n",
       "      <td>55-74 years</td>\n",
       "      <td>217.0</td>\n",
       "      <td>1040500.0</td>\n",
       "    </tr>\n",
       "    <tr>\n",
       "      <th>26471</th>\n",
       "      <td>Netherlands</td>\n",
       "      <td>1979</td>\n",
       "      <td>male</td>\n",
       "      <td>75+ years</td>\n",
       "      <td>93.0</td>\n",
       "      <td>235800.0</td>\n",
       "    </tr>\n",
       "    <tr>\n",
       "      <th>2615</th>\n",
       "      <td>Austria</td>\n",
       "      <td>1979</td>\n",
       "      <td>male</td>\n",
       "      <td>75+ years</td>\n",
       "      <td>NaN</td>\n",
       "      <td>141900.0</td>\n",
       "    </tr>\n",
       "    <tr>\n",
       "      <th>2614</th>\n",
       "      <td>Austria</td>\n",
       "      <td>1979</td>\n",
       "      <td>male</td>\n",
       "      <td>55-74 years</td>\n",
       "      <td>NaN</td>\n",
       "      <td>573800.0</td>\n",
       "    </tr>\n",
       "  </tbody>\n",
       "</table>\n",
       "</div>"
      ],
      "text/plain": [
       "           country  year     sex          age  suicides_no  population\n",
       "6204        Brazil  1979  female  15-24 years        385.0  12448100.0\n",
       "26470  Netherlands  1979    male  55-74 years        217.0   1040500.0\n",
       "26471  Netherlands  1979    male    75+ years         93.0    235800.0\n",
       "2615       Austria  1979    male    75+ years          NaN    141900.0\n",
       "2614       Austria  1979    male  55-74 years          NaN    573800.0"
      ]
     },
     "execution_count": 7,
     "metadata": {},
     "output_type": "execute_result"
    }
   ],
   "source": [
    "data = data.sort_values(['year'],ascending=True)\n",
    "data.head()"
   ]
  },
  {
   "cell_type": "markdown",
   "metadata": {},
   "source": [
    "### Finding the number of unique countries in the dataset"
   ]
  },
  {
   "cell_type": "code",
   "execution_count": 8,
   "metadata": {
    "colab": {
     "base_uri": "https://localhost:8080/",
     "height": 34
    },
    "colab_type": "code",
    "id": "yBq6J-DGhqmF",
    "outputId": "3f4de165-290c-4861-8cbb-c13707393598"
   },
   "outputs": [
    {
     "name": "stdout",
     "output_type": "stream",
     "text": [
      "Number of unique countries : 141\n"
     ]
    }
   ],
   "source": [
    "print(\"Number of unique countries :\" , data['country'].nunique())"
   ]
  },
  {
   "cell_type": "markdown",
   "metadata": {},
   "source": [
    "### Since we have a large dataset, we can drop the rows which have null values for suicide_no and population colums"
   ]
  },
  {
   "cell_type": "code",
   "execution_count": 9,
   "metadata": {
    "colab": {
     "base_uri": "https://localhost:8080/",
     "height": 136
    },
    "colab_type": "code",
    "id": "OvoTnPvGhthK",
    "outputId": "08cb7a4e-7875-43d0-bfb0-c6908025bb3a"
   },
   "outputs": [
    {
     "data": {
      "text/plain": [
       "country        0\n",
       "year           0\n",
       "sex            0\n",
       "age            0\n",
       "suicides_no    0\n",
       "population     0\n",
       "dtype: int64"
      ]
     },
     "execution_count": 9,
     "metadata": {},
     "output_type": "execute_result"
    }
   ],
   "source": [
    "# Checking for the total data points\n",
    "# after dropping the null rows \n",
    "data.dropna(inplace = True)\n",
    "data.isnull().sum()"
   ]
  },
  {
   "cell_type": "code",
   "execution_count": 10,
   "metadata": {
    "colab": {
     "base_uri": "https://localhost:8080/",
     "height": 204
    },
    "colab_type": "code",
    "id": "1CWYKwarh5Iq",
    "outputId": "d909ec66-f239-4f65-d19c-79439aa6d639"
   },
   "outputs": [
    {
     "data": {
      "text/html": [
       "<div>\n",
       "<style scoped>\n",
       "    .dataframe tbody tr th:only-of-type {\n",
       "        vertical-align: middle;\n",
       "    }\n",
       "\n",
       "    .dataframe tbody tr th {\n",
       "        vertical-align: top;\n",
       "    }\n",
       "\n",
       "    .dataframe thead th {\n",
       "        text-align: right;\n",
       "    }\n",
       "</style>\n",
       "<table border=\"1\" class=\"dataframe\">\n",
       "  <thead>\n",
       "    <tr style=\"text-align: right;\">\n",
       "      <th></th>\n",
       "      <th>country</th>\n",
       "      <th>year</th>\n",
       "      <th>sex</th>\n",
       "      <th>age</th>\n",
       "      <th>suicides_no</th>\n",
       "      <th>population</th>\n",
       "    </tr>\n",
       "  </thead>\n",
       "  <tbody>\n",
       "    <tr>\n",
       "      <th>6204</th>\n",
       "      <td>Brazil</td>\n",
       "      <td>1979</td>\n",
       "      <td>female</td>\n",
       "      <td>15-24 years</td>\n",
       "      <td>385.0</td>\n",
       "      <td>12448100.0</td>\n",
       "    </tr>\n",
       "    <tr>\n",
       "      <th>26470</th>\n",
       "      <td>Netherlands</td>\n",
       "      <td>1979</td>\n",
       "      <td>male</td>\n",
       "      <td>55-74 years</td>\n",
       "      <td>217.0</td>\n",
       "      <td>1040500.0</td>\n",
       "    </tr>\n",
       "    <tr>\n",
       "      <th>26471</th>\n",
       "      <td>Netherlands</td>\n",
       "      <td>1979</td>\n",
       "      <td>male</td>\n",
       "      <td>75+ years</td>\n",
       "      <td>93.0</td>\n",
       "      <td>235800.0</td>\n",
       "    </tr>\n",
       "    <tr>\n",
       "      <th>26469</th>\n",
       "      <td>Netherlands</td>\n",
       "      <td>1979</td>\n",
       "      <td>male</td>\n",
       "      <td>5-14 years</td>\n",
       "      <td>3.0</td>\n",
       "      <td>1191200.0</td>\n",
       "    </tr>\n",
       "    <tr>\n",
       "      <th>27084</th>\n",
       "      <td>New Zealand</td>\n",
       "      <td>1979</td>\n",
       "      <td>female</td>\n",
       "      <td>15-24 years</td>\n",
       "      <td>11.0</td>\n",
       "      <td>281500.0</td>\n",
       "    </tr>\n",
       "  </tbody>\n",
       "</table>\n",
       "</div>"
      ],
      "text/plain": [
       "           country  year     sex          age  suicides_no  population\n",
       "6204        Brazil  1979  female  15-24 years        385.0  12448100.0\n",
       "26470  Netherlands  1979    male  55-74 years        217.0   1040500.0\n",
       "26471  Netherlands  1979    male    75+ years         93.0    235800.0\n",
       "26469  Netherlands  1979    male   5-14 years          3.0   1191200.0\n",
       "27084  New Zealand  1979  female  15-24 years         11.0    281500.0"
      ]
     },
     "execution_count": 10,
     "metadata": {},
     "output_type": "execute_result"
    }
   ],
   "source": [
    "data.head()"
   ]
  },
  {
   "cell_type": "markdown",
   "metadata": {},
   "source": [
    "### Lets see the top 10 countries having the most suicides over the years"
   ]
  },
  {
   "cell_type": "code",
   "execution_count": 11,
   "metadata": {
    "colab": {
     "base_uri": "https://localhost:8080/",
     "height": 390
    },
    "colab_type": "code",
    "id": "S1ouQwZiiG0L",
    "outputId": "0174ab38-bcee-4aa1-aee1-78fbe359b039"
   },
   "outputs": [
    {
     "data": {
      "text/html": [
       "<div>\n",
       "<style scoped>\n",
       "    .dataframe tbody tr th:only-of-type {\n",
       "        vertical-align: middle;\n",
       "    }\n",
       "\n",
       "    .dataframe tbody tr th {\n",
       "        vertical-align: top;\n",
       "    }\n",
       "\n",
       "    .dataframe thead th {\n",
       "        text-align: right;\n",
       "    }\n",
       "</style>\n",
       "<table border=\"1\" class=\"dataframe\">\n",
       "  <thead>\n",
       "    <tr style=\"text-align: right;\">\n",
       "      <th></th>\n",
       "      <th>suicides_no</th>\n",
       "    </tr>\n",
       "    <tr>\n",
       "      <th>country</th>\n",
       "      <th></th>\n",
       "    </tr>\n",
       "  </thead>\n",
       "  <tbody>\n",
       "    <tr>\n",
       "      <th>Russian Federation</th>\n",
       "      <td>1500992.0</td>\n",
       "    </tr>\n",
       "    <tr>\n",
       "      <th>United States of America</th>\n",
       "      <td>1201401.0</td>\n",
       "    </tr>\n",
       "    <tr>\n",
       "      <th>Japan</th>\n",
       "      <td>937614.0</td>\n",
       "    </tr>\n",
       "    <tr>\n",
       "      <th>France</th>\n",
       "      <td>395500.0</td>\n",
       "    </tr>\n",
       "    <tr>\n",
       "      <th>Ukraine</th>\n",
       "      <td>365170.0</td>\n",
       "    </tr>\n",
       "    <tr>\n",
       "      <th>Germany</th>\n",
       "      <td>291262.0</td>\n",
       "    </tr>\n",
       "    <tr>\n",
       "      <th>Republic of Korea</th>\n",
       "      <td>261730.0</td>\n",
       "    </tr>\n",
       "    <tr>\n",
       "      <th>Brazil</th>\n",
       "      <td>250824.0</td>\n",
       "    </tr>\n",
       "    <tr>\n",
       "      <th>Poland</th>\n",
       "      <td>172562.0</td>\n",
       "    </tr>\n",
       "    <tr>\n",
       "      <th>United Kingdom</th>\n",
       "      <td>166314.0</td>\n",
       "    </tr>\n",
       "  </tbody>\n",
       "</table>\n",
       "</div>"
      ],
      "text/plain": [
       "                          suicides_no\n",
       "country                              \n",
       "Russian Federation          1500992.0\n",
       "United States of America    1201401.0\n",
       "Japan                        937614.0\n",
       "France                       395500.0\n",
       "Ukraine                      365170.0\n",
       "Germany                      291262.0\n",
       "Republic of Korea            261730.0\n",
       "Brazil                       250824.0\n",
       "Poland                       172562.0\n",
       "United Kingdom               166314.0"
      ]
     },
     "execution_count": 11,
     "metadata": {},
     "output_type": "execute_result"
    }
   ],
   "source": [
    "data[['country','suicides_no']].groupby(['country']).agg('sum').sort_values(by='suicides_no',ascending=False).head(10)"
   ]
  },
  {
   "cell_type": "markdown",
   "metadata": {},
   "source": [
    "### Lets look at these 10 countries graphically"
   ]
  },
  {
   "cell_type": "code",
   "execution_count": 12,
   "metadata": {
    "colab": {
     "base_uri": "https://localhost:8080/",
     "height": 703
    },
    "colab_type": "code",
    "id": "9F8wASvEiMU7",
    "outputId": "30d0921b-bfb0-4f35-a97e-a4b15cf8ddde"
   },
   "outputs": [
    {
     "data": {
      "image/png": "[encoded data removed]",
      "text/plain": [
       "<Figure size 1080x720 with 1 Axes>"
      ]
     },
     "metadata": {},
     "output_type": "display_data"
    }
   ],
   "source": [
    "plt.style.use('seaborn-dark')\n",
    "plt.style.use('dark_background')\n",
    "plt.rcParams['figure.figsize'] = (15, 10)\n",
    "\n",
    "xval = pd.DataFrame(data.groupby(['country'])['suicides_no'].sum().reset_index())\n",
    "xval.sort_values(by = ['suicides_no'], ascending = False, inplace = True)\n",
    "\n",
    "sns.barplot(xval['country'].head(10),y = xval['suicides_no'].head(10), data= xval, palette = 'winter')\n",
    "plt.title('Top 10 Countries with maximum number of suicides ', fontsize = 19)\n",
    "plt.xlabel('Name of the Country')\n",
    "plt.xticks(rotation = 90)\n",
    "plt.ylabel('Count ( unit = 1e6 )')\n",
    "plt.rcParams['font.size'] = 19\n",
    "plt.show()"
   ]
  },
  {
   "cell_type": "markdown",
   "metadata": {},
   "source": [
    "### Lets see the top 10 countries with minimum suicides over the years"
   ]
  },
  {
   "cell_type": "code",
   "execution_count": 13,
   "metadata": {
    "colab": {
     "base_uri": "https://localhost:8080/",
     "height": 390
    },
    "colab_type": "code",
    "id": "Rxg0P_uzm1ed",
    "outputId": "02b09f6c-e788-4ab5-d054-422e3f79e0d3"
   },
   "outputs": [
    {
     "data": {
      "text/html": [
       "<div>\n",
       "<style scoped>\n",
       "    .dataframe tbody tr th:only-of-type {\n",
       "        vertical-align: middle;\n",
       "    }\n",
       "\n",
       "    .dataframe tbody tr th {\n",
       "        vertical-align: top;\n",
       "    }\n",
       "\n",
       "    .dataframe thead th {\n",
       "        text-align: right;\n",
       "    }\n",
       "</style>\n",
       "<table border=\"1\" class=\"dataframe\">\n",
       "  <thead>\n",
       "    <tr style=\"text-align: right;\">\n",
       "      <th></th>\n",
       "      <th>suicides_no</th>\n",
       "    </tr>\n",
       "    <tr>\n",
       "      <th>country</th>\n",
       "      <th></th>\n",
       "    </tr>\n",
       "  </thead>\n",
       "  <tbody>\n",
       "    <tr>\n",
       "      <th>Cayman Islands</th>\n",
       "      <td>0.0</td>\n",
       "    </tr>\n",
       "    <tr>\n",
       "      <th>Saint Kitts and Nevis</th>\n",
       "      <td>0.0</td>\n",
       "    </tr>\n",
       "    <tr>\n",
       "      <th>Dominica</th>\n",
       "      <td>4.0</td>\n",
       "    </tr>\n",
       "    <tr>\n",
       "      <th>Sao Tome and Principe</th>\n",
       "      <td>4.0</td>\n",
       "    </tr>\n",
       "    <tr>\n",
       "      <th>Mayotte</th>\n",
       "      <td>6.0</td>\n",
       "    </tr>\n",
       "    <tr>\n",
       "      <th>Bermuda</th>\n",
       "      <td>6.0</td>\n",
       "    </tr>\n",
       "    <tr>\n",
       "      <th>Antigua and Barbuda</th>\n",
       "      <td>11.0</td>\n",
       "    </tr>\n",
       "    <tr>\n",
       "      <th>Maldives</th>\n",
       "      <td>20.0</td>\n",
       "    </tr>\n",
       "    <tr>\n",
       "      <th>San Marino</th>\n",
       "      <td>21.0</td>\n",
       "    </tr>\n",
       "    <tr>\n",
       "      <th>Macau</th>\n",
       "      <td>27.0</td>\n",
       "    </tr>\n",
       "  </tbody>\n",
       "</table>\n",
       "</div>"
      ],
      "text/plain": [
       "                       suicides_no\n",
       "country                           \n",
       "Cayman Islands                 0.0\n",
       "Saint Kitts and Nevis          0.0\n",
       "Dominica                       4.0\n",
       "Sao Tome and Principe          4.0\n",
       "Mayotte                        6.0\n",
       "Bermuda                        6.0\n",
       "Antigua and Barbuda           11.0\n",
       "Maldives                      20.0\n",
       "San Marino                    21.0\n",
       "Macau                         27.0"
      ]
     },
     "execution_count": 13,
     "metadata": {},
     "output_type": "execute_result"
    }
   ],
   "source": [
    "data[['country','suicides_no']].groupby(['country']).agg('sum').sort_values(by='suicides_no',ascending=True).head(10)"
   ]
  },
  {
   "cell_type": "markdown",
   "metadata": {},
   "source": [
    "### Lets look at these 10 countries graphically"
   ]
  },
  {
   "cell_type": "code",
   "execution_count": 14,
   "metadata": {
    "colab": {
     "base_uri": "https://localhost:8080/",
     "height": 661
    },
    "colab_type": "code",
    "id": "_N7Fo_KWiUbQ",
    "outputId": "3059469a-34e2-45bc-b860-f71133beaa69"
   },
   "outputs": [
    {
     "data": {
      "image/png": "[encoded data removed]",
      "text/plain": [
       "<Figure size 1440x720 with 1 Axes>"
      ]
     },
     "metadata": {},
     "output_type": "display_data"
    }
   ],
   "source": [
    "plt.style.use('seaborn-dark')\n",
    "plt.style.use('dark_background')\n",
    "plt.rcParams['figure.figsize'] = (20, 10)\n",
    "\n",
    "xval = pd.DataFrame(data.groupby(['country'])['suicides_no'].sum().reset_index())\n",
    "xval.sort_values(by = ['suicides_no'], ascending = True, inplace = True)\n",
    "\n",
    "sns.barplot(xval['country'].head(10),y = xval['suicides_no'].head(10), data= xval, palette = 'winter')\n",
    "plt.title('Top 10 Countries with maximum number of suicides ', fontsize = 19)\n",
    "plt.xlabel('Name of the Country')\n",
    "plt.xticks(rotation = 90)\n",
    "plt.ylabel('Count')\n",
    "plt.rcParams['font.size'] = 19\n",
    "plt.show()"
   ]
  },
  {
   "cell_type": "markdown",
   "metadata": {},
   "source": [
    "### Top 10 years with most number of Suicides in 141 countries"
   ]
  },
  {
   "cell_type": "code",
   "execution_count": 15,
   "metadata": {
    "colab": {
     "base_uri": "https://localhost:8080/",
     "height": 390
    },
    "colab_type": "code",
    "id": "qy77cPghm0mQ",
    "outputId": "367fd6d1-2181-4efc-9a1d-371c1fe0dfa6"
   },
   "outputs": [
    {
     "data": {
      "text/html": [
       "<div>\n",
       "<style scoped>\n",
       "    .dataframe tbody tr th:only-of-type {\n",
       "        vertical-align: middle;\n",
       "    }\n",
       "\n",
       "    .dataframe tbody tr th {\n",
       "        vertical-align: top;\n",
       "    }\n",
       "\n",
       "    .dataframe thead th {\n",
       "        text-align: right;\n",
       "    }\n",
       "</style>\n",
       "<table border=\"1\" class=\"dataframe\">\n",
       "  <thead>\n",
       "    <tr style=\"text-align: right;\">\n",
       "      <th></th>\n",
       "      <th>suicides_no</th>\n",
       "    </tr>\n",
       "    <tr>\n",
       "      <th>year</th>\n",
       "      <th></th>\n",
       "    </tr>\n",
       "  </thead>\n",
       "  <tbody>\n",
       "    <tr>\n",
       "      <th>2002</th>\n",
       "      <td>259376.0</td>\n",
       "    </tr>\n",
       "    <tr>\n",
       "      <th>2003</th>\n",
       "      <td>259336.0</td>\n",
       "    </tr>\n",
       "    <tr>\n",
       "      <th>1999</th>\n",
       "      <td>258989.0</td>\n",
       "    </tr>\n",
       "    <tr>\n",
       "      <th>2000</th>\n",
       "      <td>258808.0</td>\n",
       "    </tr>\n",
       "    <tr>\n",
       "      <th>2001</th>\n",
       "      <td>254036.0</td>\n",
       "    </tr>\n",
       "    <tr>\n",
       "      <th>1998</th>\n",
       "      <td>252324.0</td>\n",
       "    </tr>\n",
       "    <tr>\n",
       "      <th>1996</th>\n",
       "      <td>249451.0</td>\n",
       "    </tr>\n",
       "    <tr>\n",
       "      <th>2009</th>\n",
       "      <td>246323.0</td>\n",
       "    </tr>\n",
       "    <tr>\n",
       "      <th>1995</th>\n",
       "      <td>245203.0</td>\n",
       "    </tr>\n",
       "    <tr>\n",
       "      <th>2004</th>\n",
       "      <td>244196.0</td>\n",
       "    </tr>\n",
       "  </tbody>\n",
       "</table>\n",
       "</div>"
      ],
      "text/plain": [
       "      suicides_no\n",
       "year             \n",
       "2002     259376.0\n",
       "2003     259336.0\n",
       "1999     258989.0\n",
       "2000     258808.0\n",
       "2001     254036.0\n",
       "1998     252324.0\n",
       "1996     249451.0\n",
       "2009     246323.0\n",
       "1995     245203.0\n",
       "2004     244196.0"
      ]
     },
     "execution_count": 15,
     "metadata": {},
     "output_type": "execute_result"
    }
   ],
   "source": [
    "xvals = data[['year','suicides_no']].groupby('year').agg('sum').sort_values(by='suicides_no',ascending=False)\n",
    "xvals.head(10)"
   ]
  },
  {
   "cell_type": "markdown",
   "metadata": {},
   "source": [
    "### Total population of countries having the most suicides"
   ]
  },
  {
   "cell_type": "code",
   "execution_count": 16,
   "metadata": {},
   "outputs": [
    {
     "data": {
      "text/html": [
       "<div>\n",
       "<style scoped>\n",
       "    .dataframe tbody tr th:only-of-type {\n",
       "        vertical-align: middle;\n",
       "    }\n",
       "\n",
       "    .dataframe tbody tr th {\n",
       "        vertical-align: top;\n",
       "    }\n",
       "\n",
       "    .dataframe thead th {\n",
       "        text-align: right;\n",
       "    }\n",
       "</style>\n",
       "<table border=\"1\" class=\"dataframe\">\n",
       "  <thead>\n",
       "    <tr style=\"text-align: right;\">\n",
       "      <th></th>\n",
       "      <th>population</th>\n",
       "      <th>suicides_no</th>\n",
       "    </tr>\n",
       "    <tr>\n",
       "      <th>year</th>\n",
       "      <th></th>\n",
       "      <th></th>\n",
       "    </tr>\n",
       "  </thead>\n",
       "  <tbody>\n",
       "    <tr>\n",
       "      <th>2002</th>\n",
       "      <td>1.922587e+09</td>\n",
       "      <td>259376.0</td>\n",
       "    </tr>\n",
       "    <tr>\n",
       "      <th>2003</th>\n",
       "      <td>1.940607e+09</td>\n",
       "      <td>259336.0</td>\n",
       "    </tr>\n",
       "    <tr>\n",
       "      <th>1999</th>\n",
       "      <td>1.809551e+09</td>\n",
       "      <td>258989.0</td>\n",
       "    </tr>\n",
       "    <tr>\n",
       "      <th>2000</th>\n",
       "      <td>1.895363e+09</td>\n",
       "      <td>258808.0</td>\n",
       "    </tr>\n",
       "    <tr>\n",
       "      <th>2001</th>\n",
       "      <td>1.854263e+09</td>\n",
       "      <td>254036.0</td>\n",
       "    </tr>\n",
       "    <tr>\n",
       "      <th>1998</th>\n",
       "      <td>1.757836e+09</td>\n",
       "      <td>252324.0</td>\n",
       "    </tr>\n",
       "    <tr>\n",
       "      <th>1996</th>\n",
       "      <td>1.694326e+09</td>\n",
       "      <td>249451.0</td>\n",
       "    </tr>\n",
       "    <tr>\n",
       "      <th>2009</th>\n",
       "      <td>2.089017e+09</td>\n",
       "      <td>246323.0</td>\n",
       "    </tr>\n",
       "    <tr>\n",
       "      <th>1995</th>\n",
       "      <td>1.603185e+09</td>\n",
       "      <td>245203.0</td>\n",
       "    </tr>\n",
       "    <tr>\n",
       "      <th>2004</th>\n",
       "      <td>1.844049e+09</td>\n",
       "      <td>244196.0</td>\n",
       "    </tr>\n",
       "  </tbody>\n",
       "</table>\n",
       "</div>"
      ],
      "text/plain": [
       "        population  suicides_no\n",
       "year                           \n",
       "2002  1.922587e+09     259376.0\n",
       "2003  1.940607e+09     259336.0\n",
       "1999  1.809551e+09     258989.0\n",
       "2000  1.895363e+09     258808.0\n",
       "2001  1.854263e+09     254036.0\n",
       "1998  1.757836e+09     252324.0\n",
       "1996  1.694326e+09     249451.0\n",
       "2009  2.089017e+09     246323.0\n",
       "1995  1.603185e+09     245203.0\n",
       "2004  1.844049e+09     244196.0"
      ]
     },
     "execution_count": 16,
     "metadata": {},
     "output_type": "execute_result"
    }
   ],
   "source": [
    "data[['population','suicides_no','year']].groupby('year').agg('sum').sort_values(by='suicides_no',ascending=False).head(10)"
   ]
  },
  {
   "cell_type": "markdown",
   "metadata": {},
   "source": [
    "### Finding the correlation coefficient between total suicides and total population"
   ]
  },
  {
   "cell_type": "code",
   "execution_count": 17,
   "metadata": {
    "colab": {
     "base_uri": "https://localhost:8080/",
     "height": 34
    },
    "colab_type": "code",
    "id": "V5GIi1hFh7N_",
    "outputId": "ff3f3ba2-1abc-420a-8109-bb9ff5598092"
   },
   "outputs": [
    {
     "name": "stdout",
     "output_type": "stream",
     "text": [
      "Correlation between the number of suicides and population is : 0.6114060718995667\n"
     ]
    }
   ],
   "source": [
    "corr= data['suicides_no'].corr(data['population'])\n",
    "print(\"Correlation between the number of suicides and population is :\",corr)"
   ]
  },
  {
   "cell_type": "markdown",
   "metadata": {},
   "source": [
    "### Graphically representing the top 10 years having the most suicides"
   ]
  },
  {
   "cell_type": "code",
   "execution_count": 18,
   "metadata": {
    "colab": {
     "base_uri": "https://localhost:8080/",
     "height": 581
    },
    "colab_type": "code",
    "id": "9GxiO9fKnIee",
    "outputId": "ff65ef72-d0d7-46e5-b9d7-68906b9b6bdd"
   },
   "outputs": [
    {
     "data": {
      "image/png": "[encoded data removed]",
      "text/plain": [
       "<Figure size 1080x648 with 1 Axes>"
      ]
     },
     "metadata": {},
     "output_type": "display_data"
    }
   ],
   "source": [
    "plt.style.use('seaborn-dark')\n",
    "plt.style.use('dark_background')\n",
    "plt.rcParams['figure.figsize'] = (15, 9)\n",
    "\n",
    "xvals = pd.DataFrame(data.groupby(['year'])['suicides_no'].sum().reset_index())\n",
    "xvals.sort_values(by = ['suicides_no'], ascending = False , inplace = True)\n",
    "\n",
    "sns.barplot(x = \"year\", y = \"suicides_no\", data= xvals.head(10), palette = 'winter')\n",
    "plt.title('Top 10 years having the most suicides', fontsize = 20)\n",
    "plt.xlabel('Year')\n",
    "plt.rcParams['font.size'] = 19\n",
    "plt.xticks(rotation = 45)\n",
    "plt.ylabel('Count')\n",
    "plt.show()"
   ]
  },
  {
   "cell_type": "markdown",
   "metadata": {},
   "source": [
    "### Lets see the age groups having the most suicides"
   ]
  },
  {
   "cell_type": "code",
   "execution_count": 19,
   "metadata": {
    "colab": {
     "base_uri": "https://localhost:8080/",
     "height": 266
    },
    "colab_type": "code",
    "id": "fUw4vJKanNbN",
    "outputId": "2a193a49-c4e5-424e-f6bb-1eeeb765a51b"
   },
   "outputs": [
    {
     "data": {
      "text/html": [
       "<div>\n",
       "<style scoped>\n",
       "    .dataframe tbody tr th:only-of-type {\n",
       "        vertical-align: middle;\n",
       "    }\n",
       "\n",
       "    .dataframe tbody tr th {\n",
       "        vertical-align: top;\n",
       "    }\n",
       "\n",
       "    .dataframe thead th {\n",
       "        text-align: right;\n",
       "    }\n",
       "</style>\n",
       "<table border=\"1\" class=\"dataframe\">\n",
       "  <thead>\n",
       "    <tr style=\"text-align: right;\">\n",
       "      <th></th>\n",
       "      <th>suicides_no</th>\n",
       "    </tr>\n",
       "    <tr>\n",
       "      <th>age</th>\n",
       "      <th></th>\n",
       "    </tr>\n",
       "  </thead>\n",
       "  <tbody>\n",
       "    <tr>\n",
       "      <th>35-54 years</th>\n",
       "      <td>2887740.0</td>\n",
       "    </tr>\n",
       "    <tr>\n",
       "      <th>55-74 years</th>\n",
       "      <td>1955150.0</td>\n",
       "    </tr>\n",
       "    <tr>\n",
       "      <th>25-34 years</th>\n",
       "      <td>1360780.0</td>\n",
       "    </tr>\n",
       "    <tr>\n",
       "      <th>15-24 years</th>\n",
       "      <td>975700.0</td>\n",
       "    </tr>\n",
       "    <tr>\n",
       "      <th>75+ years</th>\n",
       "      <td>756777.0</td>\n",
       "    </tr>\n",
       "    <tr>\n",
       "      <th>5-14 years</th>\n",
       "      <td>62320.0</td>\n",
       "    </tr>\n",
       "  </tbody>\n",
       "</table>\n",
       "</div>"
      ],
      "text/plain": [
       "             suicides_no\n",
       "age                     \n",
       "35-54 years    2887740.0\n",
       "55-74 years    1955150.0\n",
       "25-34 years    1360780.0\n",
       "15-24 years     975700.0\n",
       "75+ years       756777.0\n",
       "5-14 years       62320.0"
      ]
     },
     "execution_count": 19,
     "metadata": {},
     "output_type": "execute_result"
    }
   ],
   "source": [
    "data[['age','suicides_no']].groupby('age').agg('sum').sort_values(by='suicides_no',ascending=False)"
   ]
  },
  {
   "cell_type": "markdown",
   "metadata": {},
   "source": [
    "### Looking at the above data graphically\n"
   ]
  },
  {
   "cell_type": "code",
   "execution_count": 20,
   "metadata": {
    "colab": {
     "base_uri": "https://localhost:8080/",
     "height": 612
    },
    "colab_type": "code",
    "id": "ACq8t28EnPpa",
    "outputId": "c21074f8-8934-4de9-8ed6-a7142c1a31a9"
   },
   "outputs": [
    {
     "data": {
      "image/png": "[encoded data removed]",
      "text/plain": [
       "<Figure size 1080x648 with 1 Axes>"
      ]
     },
     "metadata": {},
     "output_type": "display_data"
    }
   ],
   "source": [
    "plt.style.use('seaborn-dark')\n",
    "plt.style.use('dark_background')\n",
    "\n",
    "x = pd.DataFrame(data.groupby(['age'])['suicides_no'].sum().reset_index())\n",
    "x.sort_values(by = ['suicides_no'], ascending = False , inplace = True)\n",
    "\n",
    "sns.barplot(x['age'].head(10), y = x['suicides_no'].head(10), data= x, palette = 'winter')\n",
    "plt.title('Top age groups with highest number Suicides', fontsize = 20)\n",
    "plt.xlabel('age group')\n",
    "plt.xticks(rotation = 45)\n",
    "plt.ylabel('Count')\n",
    "plt.show()"
   ]
  },
  {
   "cell_type": "markdown",
   "metadata": {},
   "source": [
    "### Looking at the number of suicides with respect to gender"
   ]
  },
  {
   "cell_type": "code",
   "execution_count": 21,
   "metadata": {
    "colab": {
     "base_uri": "https://localhost:8080/",
     "height": 142
    },
    "colab_type": "code",
    "id": "rjKGV7v5nRao",
    "outputId": "c76008f9-93be-4435-ac91-d3bf7fd4cec0"
   },
   "outputs": [
    {
     "data": {
      "text/html": [
       "<div>\n",
       "<style scoped>\n",
       "    .dataframe tbody tr th:only-of-type {\n",
       "        vertical-align: middle;\n",
       "    }\n",
       "\n",
       "    .dataframe tbody tr th {\n",
       "        vertical-align: top;\n",
       "    }\n",
       "\n",
       "    .dataframe thead th {\n",
       "        text-align: right;\n",
       "    }\n",
       "</style>\n",
       "<table border=\"1\" class=\"dataframe\">\n",
       "  <thead>\n",
       "    <tr style=\"text-align: right;\">\n",
       "      <th></th>\n",
       "      <th>suicides_no</th>\n",
       "    </tr>\n",
       "    <tr>\n",
       "      <th>sex</th>\n",
       "      <th></th>\n",
       "    </tr>\n",
       "  </thead>\n",
       "  <tbody>\n",
       "    <tr>\n",
       "      <th>female</th>\n",
       "      <td>1894294.0</td>\n",
       "    </tr>\n",
       "    <tr>\n",
       "      <th>male</th>\n",
       "      <td>6104173.0</td>\n",
       "    </tr>\n",
       "  </tbody>\n",
       "</table>\n",
       "</div>"
      ],
      "text/plain": [
       "        suicides_no\n",
       "sex                \n",
       "female    1894294.0\n",
       "male      6104173.0"
      ]
     },
     "execution_count": 21,
     "metadata": {},
     "output_type": "execute_result"
    }
   ],
   "source": [
    "data[['sex','suicides_no']].groupby('sex').agg('sum').sort_values(by='suicides_no')"
   ]
  },
  {
   "cell_type": "markdown",
   "metadata": {},
   "source": [
    "### Lets look at the above numbers graphically"
   ]
  },
  {
   "cell_type": "code",
   "execution_count": 22,
   "metadata": {
    "colab": {
     "base_uri": "https://localhost:8080/",
     "height": 293
    },
    "colab_type": "code",
    "id": "aTQEoC0isaJ6",
    "outputId": "7501c350-8d2a-433f-ca22-0cf61fbd5b0b"
   },
   "outputs": [
    {
     "data": {
      "image/png": "[encoded data removed]",
      "text/plain": [
       "<Figure size 648x360 with 1 Axes>"
      ]
     },
     "metadata": {},
     "output_type": "display_data"
    }
   ],
   "source": [
    "plt.style.use('seaborn-dark')\n",
    "plt.style.use('dark_background')\n",
    "plt.rcParams['figure.figsize'] = (9,5)\n",
    "\n",
    "color = plt.cm.winter(np.linspace(0, 10, 100))\n",
    "x = pd.DataFrame(data.groupby(['sex'])['suicides_no'].sum().reset_index())\n",
    "x.sort_values(by = ['suicides_no'], ascending = False , inplace = True)\n",
    "\n",
    "# sns.pieplot(x['sex'], y = x['suicides_no'], data= x, palette = 'winter')\n",
    "x.plot.pie(y ='suicides_no')\n",
    "plt.title('Sex vise division', fontsize = 20)\n",
    "plt.xlabel('Sex')\n",
    "plt.ylabel('Count (unit = 1e6)')\n",
    "plt.show()"
   ]
  },
  {
   "cell_type": "markdown",
   "metadata": {},
   "source": [
    "### Copying the dataframe so that it can be used for the benchmark model."
   ]
  },
  {
   "cell_type": "code",
   "execution_count": 23,
   "metadata": {},
   "outputs": [],
   "source": [
    "bm_df = data.copy()"
   ]
  },
  {
   "cell_type": "markdown",
   "metadata": {},
   "source": [
    "## Lets use the label encoder to :\n",
    "- To encode to column sex and the column age to plot coorelation headtmap."
   ]
  },
  {
   "cell_type": "code",
   "execution_count": 24,
   "metadata": {
    "colab": {},
    "colab_type": "code",
    "id": "Mwryd0b0nT1y"
   },
   "outputs": [],
   "source": [
    "from sklearn.preprocessing import LabelEncoder\n",
    "LE = LabelEncoder()\n",
    "bm_df['sex'] = LE.fit_transform(bm_df['sex'])\n",
    "bm_df['age'] = LE.fit_transform(bm_df['age'])\n",
    "bm_df['country'] = LE.fit_transform(bm_df['country'])\n",
    "data['sex'] = LE.fit_transform(data['sex'])"
   ]
  },
  {
   "cell_type": "code",
   "execution_count": 25,
   "metadata": {},
   "outputs": [
    {
     "data": {
      "text/html": [
       "<div>\n",
       "<style scoped>\n",
       "    .dataframe tbody tr th:only-of-type {\n",
       "        vertical-align: middle;\n",
       "    }\n",
       "\n",
       "    .dataframe tbody tr th {\n",
       "        vertical-align: top;\n",
       "    }\n",
       "\n",
       "    .dataframe thead th {\n",
       "        text-align: right;\n",
       "    }\n",
       "</style>\n",
       "<table border=\"1\" class=\"dataframe\">\n",
       "  <thead>\n",
       "    <tr style=\"text-align: right;\">\n",
       "      <th></th>\n",
       "      <th>country</th>\n",
       "      <th>year</th>\n",
       "      <th>sex</th>\n",
       "      <th>age</th>\n",
       "      <th>suicides_no</th>\n",
       "      <th>population</th>\n",
       "    </tr>\n",
       "  </thead>\n",
       "  <tbody>\n",
       "    <tr>\n",
       "      <th>6204</th>\n",
       "      <td>16</td>\n",
       "      <td>1979</td>\n",
       "      <td>0</td>\n",
       "      <td>0</td>\n",
       "      <td>385.0</td>\n",
       "      <td>12448100.0</td>\n",
       "    </tr>\n",
       "    <tr>\n",
       "      <th>26470</th>\n",
       "      <td>71</td>\n",
       "      <td>1979</td>\n",
       "      <td>1</td>\n",
       "      <td>4</td>\n",
       "      <td>217.0</td>\n",
       "      <td>1040500.0</td>\n",
       "    </tr>\n",
       "    <tr>\n",
       "      <th>26471</th>\n",
       "      <td>71</td>\n",
       "      <td>1979</td>\n",
       "      <td>1</td>\n",
       "      <td>5</td>\n",
       "      <td>93.0</td>\n",
       "      <td>235800.0</td>\n",
       "    </tr>\n",
       "    <tr>\n",
       "      <th>26469</th>\n",
       "      <td>71</td>\n",
       "      <td>1979</td>\n",
       "      <td>1</td>\n",
       "      <td>3</td>\n",
       "      <td>3.0</td>\n",
       "      <td>1191200.0</td>\n",
       "    </tr>\n",
       "    <tr>\n",
       "      <th>27084</th>\n",
       "      <td>72</td>\n",
       "      <td>1979</td>\n",
       "      <td>0</td>\n",
       "      <td>0</td>\n",
       "      <td>11.0</td>\n",
       "      <td>281500.0</td>\n",
       "    </tr>\n",
       "  </tbody>\n",
       "</table>\n",
       "</div>"
      ],
      "text/plain": [
       "       country  year  sex  age  suicides_no  population\n",
       "6204        16  1979    0    0        385.0  12448100.0\n",
       "26470       71  1979    1    4        217.0   1040500.0\n",
       "26471       71  1979    1    5         93.0    235800.0\n",
       "26469       71  1979    1    3          3.0   1191200.0\n",
       "27084       72  1979    0    0         11.0    281500.0"
      ]
     },
     "execution_count": 25,
     "metadata": {},
     "output_type": "execute_result"
    }
   ],
   "source": [
    "bm_df.head()"
   ]
  },
  {
   "cell_type": "code",
   "execution_count": 26,
   "metadata": {},
   "outputs": [
    {
     "data": {
      "text/plain": [
       "(36060, 6)"
      ]
     },
     "execution_count": 26,
     "metadata": {},
     "output_type": "execute_result"
    }
   ],
   "source": [
    "bm_df.shape"
   ]
  },
  {
   "cell_type": "markdown",
   "metadata": {},
   "source": [
    "## Plotting the Coorelation Heatmap"
   ]
  },
  {
   "cell_type": "code",
   "execution_count": 27,
   "metadata": {
    "colab": {
     "base_uri": "https://localhost:8080/",
     "height": 1000
    },
    "colab_type": "code",
    "id": "tKcdB77JoF4D",
    "outputId": "025269f9-199e-4b8a-c229-167233f8aab5"
   },
   "outputs": [
    {
     "data": {
      "image/png": "[encoded data removed]",
      "text/plain": [
       "<Figure size 1440x1440 with 2 Axes>"
      ]
     },
     "metadata": {
      "needs_background": "light"
     },
     "output_type": "display_data"
    }
   ],
   "source": [
    "# correlation betwwen the features\n",
    "plt.style.use('seaborn-dark')\n",
    "import matplotlib.pyplot as plt\n",
    "%matplotlib inline\n",
    "\n",
    "corrmat = bm_df.corr()\n",
    "top_corr_features = corrmat.index\n",
    "plt.figure(figsize=(20,20))\n",
    "#plot heat map\n",
    "sns.heatmap(bm_df[top_corr_features].corr() ,annot=True,cmap=\"RdYlGn\")\n",
    "plt.show()"
   ]
  },
  {
   "cell_type": "markdown",
   "metadata": {},
   "source": [
    "## Using pd.get_dummies to encode the country column in the data and using\n",
    "```python\n",
    "drop_first = True\n",
    "```\n",
    "## to avoid dummy variable trap."
   ]
  },
  {
   "cell_type": "code",
   "execution_count": 28,
   "metadata": {
    "colab": {
     "base_uri": "https://localhost:8080/",
     "height": 204
    },
    "colab_type": "code",
    "id": "loUCCRzmoCai",
    "outputId": "f7d3dacd-be7f-4ed9-ce78-a6394db9b49b"
   },
   "outputs": [],
   "source": [
    "data = pd.get_dummies(data,drop_first = True)"
   ]
  },
  {
   "cell_type": "code",
   "execution_count": 29,
   "metadata": {},
   "outputs": [
    {
     "data": {
      "text/html": [
       "<div>\n",
       "<style scoped>\n",
       "    .dataframe tbody tr th:only-of-type {\n",
       "        vertical-align: middle;\n",
       "    }\n",
       "\n",
       "    .dataframe tbody tr th {\n",
       "        vertical-align: top;\n",
       "    }\n",
       "\n",
       "    .dataframe thead th {\n",
       "        text-align: right;\n",
       "    }\n",
       "</style>\n",
       "<table border=\"1\" class=\"dataframe\">\n",
       "  <thead>\n",
       "    <tr style=\"text-align: right;\">\n",
       "      <th></th>\n",
       "      <th>year</th>\n",
       "      <th>sex</th>\n",
       "      <th>suicides_no</th>\n",
       "      <th>population</th>\n",
       "      <th>country_Antigua and Barbuda</th>\n",
       "      <th>country_Argentina</th>\n",
       "      <th>country_Armenia</th>\n",
       "      <th>country_Aruba</th>\n",
       "      <th>country_Australia</th>\n",
       "      <th>country_Austria</th>\n",
       "      <th>...</th>\n",
       "      <th>country_United States of America</th>\n",
       "      <th>country_Uruguay</th>\n",
       "      <th>country_Uzbekistan</th>\n",
       "      <th>country_Venezuela (Bolivarian Republic of)</th>\n",
       "      <th>country_Virgin Islands (USA)</th>\n",
       "      <th>age_25-34 years</th>\n",
       "      <th>age_35-54 years</th>\n",
       "      <th>age_5-14 years</th>\n",
       "      <th>age_55-74 years</th>\n",
       "      <th>age_75+ years</th>\n",
       "    </tr>\n",
       "  </thead>\n",
       "  <tbody>\n",
       "    <tr>\n",
       "      <th>6204</th>\n",
       "      <td>1979</td>\n",
       "      <td>0</td>\n",
       "      <td>385.0</td>\n",
       "      <td>12448100.0</td>\n",
       "      <td>0</td>\n",
       "      <td>0</td>\n",
       "      <td>0</td>\n",
       "      <td>0</td>\n",
       "      <td>0</td>\n",
       "      <td>0</td>\n",
       "      <td>...</td>\n",
       "      <td>0</td>\n",
       "      <td>0</td>\n",
       "      <td>0</td>\n",
       "      <td>0</td>\n",
       "      <td>0</td>\n",
       "      <td>0</td>\n",
       "      <td>0</td>\n",
       "      <td>0</td>\n",
       "      <td>0</td>\n",
       "      <td>0</td>\n",
       "    </tr>\n",
       "    <tr>\n",
       "      <th>26470</th>\n",
       "      <td>1979</td>\n",
       "      <td>1</td>\n",
       "      <td>217.0</td>\n",
       "      <td>1040500.0</td>\n",
       "      <td>0</td>\n",
       "      <td>0</td>\n",
       "      <td>0</td>\n",
       "      <td>0</td>\n",
       "      <td>0</td>\n",
       "      <td>0</td>\n",
       "      <td>...</td>\n",
       "      <td>0</td>\n",
       "      <td>0</td>\n",
       "      <td>0</td>\n",
       "      <td>0</td>\n",
       "      <td>0</td>\n",
       "      <td>0</td>\n",
       "      <td>0</td>\n",
       "      <td>0</td>\n",
       "      <td>1</td>\n",
       "      <td>0</td>\n",
       "    </tr>\n",
       "    <tr>\n",
       "      <th>26471</th>\n",
       "      <td>1979</td>\n",
       "      <td>1</td>\n",
       "      <td>93.0</td>\n",
       "      <td>235800.0</td>\n",
       "      <td>0</td>\n",
       "      <td>0</td>\n",
       "      <td>0</td>\n",
       "      <td>0</td>\n",
       "      <td>0</td>\n",
       "      <td>0</td>\n",
       "      <td>...</td>\n",
       "      <td>0</td>\n",
       "      <td>0</td>\n",
       "      <td>0</td>\n",
       "      <td>0</td>\n",
       "      <td>0</td>\n",
       "      <td>0</td>\n",
       "      <td>0</td>\n",
       "      <td>0</td>\n",
       "      <td>0</td>\n",
       "      <td>1</td>\n",
       "    </tr>\n",
       "    <tr>\n",
       "      <th>26469</th>\n",
       "      <td>1979</td>\n",
       "      <td>1</td>\n",
       "      <td>3.0</td>\n",
       "      <td>1191200.0</td>\n",
       "      <td>0</td>\n",
       "      <td>0</td>\n",
       "      <td>0</td>\n",
       "      <td>0</td>\n",
       "      <td>0</td>\n",
       "      <td>0</td>\n",
       "      <td>...</td>\n",
       "      <td>0</td>\n",
       "      <td>0</td>\n",
       "      <td>0</td>\n",
       "      <td>0</td>\n",
       "      <td>0</td>\n",
       "      <td>0</td>\n",
       "      <td>0</td>\n",
       "      <td>1</td>\n",
       "      <td>0</td>\n",
       "      <td>0</td>\n",
       "    </tr>\n",
       "    <tr>\n",
       "      <th>27084</th>\n",
       "      <td>1979</td>\n",
       "      <td>0</td>\n",
       "      <td>11.0</td>\n",
       "      <td>281500.0</td>\n",
       "      <td>0</td>\n",
       "      <td>0</td>\n",
       "      <td>0</td>\n",
       "      <td>0</td>\n",
       "      <td>0</td>\n",
       "      <td>0</td>\n",
       "      <td>...</td>\n",
       "      <td>0</td>\n",
       "      <td>0</td>\n",
       "      <td>0</td>\n",
       "      <td>0</td>\n",
       "      <td>0</td>\n",
       "      <td>0</td>\n",
       "      <td>0</td>\n",
       "      <td>0</td>\n",
       "      <td>0</td>\n",
       "      <td>0</td>\n",
       "    </tr>\n",
       "  </tbody>\n",
       "</table>\n",
       "<p>5 rows × 126 columns</p>\n",
       "</div>"
      ],
      "text/plain": [
       "       year  sex  suicides_no  population  country_Antigua and Barbuda  \\\n",
       "6204   1979    0        385.0  12448100.0                            0   \n",
       "26470  1979    1        217.0   1040500.0                            0   \n",
       "26471  1979    1         93.0    235800.0                            0   \n",
       "26469  1979    1          3.0   1191200.0                            0   \n",
       "27084  1979    0         11.0    281500.0                            0   \n",
       "\n",
       "       country_Argentina  country_Armenia  country_Aruba  country_Australia  \\\n",
       "6204                   0                0              0                  0   \n",
       "26470                  0                0              0                  0   \n",
       "26471                  0                0              0                  0   \n",
       "26469                  0                0              0                  0   \n",
       "27084                  0                0              0                  0   \n",
       "\n",
       "       country_Austria  ...  country_United States of America  \\\n",
       "6204                 0  ...                                 0   \n",
       "26470                0  ...                                 0   \n",
       "26471                0  ...                                 0   \n",
       "26469                0  ...                                 0   \n",
       "27084                0  ...                                 0   \n",
       "\n",
       "       country_Uruguay  country_Uzbekistan  \\\n",
       "6204                 0                   0   \n",
       "26470                0                   0   \n",
       "26471                0                   0   \n",
       "26469                0                   0   \n",
       "27084                0                   0   \n",
       "\n",
       "       country_Venezuela (Bolivarian Republic of)  \\\n",
       "6204                                            0   \n",
       "26470                                           0   \n",
       "26471                                           0   \n",
       "26469                                           0   \n",
       "27084                                           0   \n",
       "\n",
       "       country_Virgin Islands (USA)  age_25-34 years  age_35-54 years  \\\n",
       "6204                              0                0                0   \n",
       "26470                             0                0                0   \n",
       "26471                             0                0                0   \n",
       "26469                             0                0                0   \n",
       "27084                             0                0                0   \n",
       "\n",
       "       age_5-14 years  age_55-74 years  age_75+ years  \n",
       "6204                0                0              0  \n",
       "26470               0                1              0  \n",
       "26471               0                0              1  \n",
       "26469               1                0              0  \n",
       "27084               0                0              0  \n",
       "\n",
       "[5 rows x 126 columns]"
      ]
     },
     "execution_count": 29,
     "metadata": {},
     "output_type": "execute_result"
    }
   ],
   "source": [
    "data.head()"
   ]
  },
  {
   "cell_type": "code",
   "execution_count": 30,
   "metadata": {},
   "outputs": [
    {
     "data": {
      "text/plain": [
       "(36060, 126)"
      ]
     },
     "execution_count": 30,
     "metadata": {},
     "output_type": "execute_result"
    }
   ],
   "source": [
    "data.shape"
   ]
  },
  {
   "cell_type": "markdown",
   "metadata": {},
   "source": [
    "## Spliting the data into independant vatiables."
   ]
  },
  {
   "cell_type": "code",
   "execution_count": 31,
   "metadata": {
    "colab": {},
    "colab_type": "code",
    "id": "kAln3puHoLRq"
   },
   "outputs": [],
   "source": [
    "X= data.drop(['suicides_no'],axis=1)\n",
    "y= data['suicides_no']\n",
    "\n",
    "bm_X= bm_df.drop(['suicides_no','country'],axis=1)\n",
    "bm_y= bm_df['suicides_no']"
   ]
  },
  {
   "cell_type": "markdown",
   "metadata": {},
   "source": [
    "## Splitting the independant variables into test and train"
   ]
  },
  {
   "cell_type": "code",
   "execution_count": 33,
   "metadata": {
    "colab": {
     "base_uri": "https://localhost:8080/",
     "height": 85
    },
    "colab_type": "code",
    "id": "S3FmE93Iodl1",
    "outputId": "73aeb824-e747-4c77-bd8e-7958bd77880c"
   },
   "outputs": [
    {
     "name": "stdout",
     "output_type": "stream",
     "text": [
      "Shapes of train data :\n",
      "(28848, 125)\n",
      "(7212, 125)\n",
      "(28848,)\n",
      "(7212,)\n",
      "Shapes of benchmark data :\n",
      "(28848, 4)\n",
      "(7212, 4)\n",
      "(28848,)\n",
      "(7212,)\n"
     ]
    }
   ],
   "source": [
    "nplace = True# splitting into train_test_split\n",
    "\n",
    "from sklearn.model_selection import train_test_split\n",
    "\n",
    "x_train, x_test, y_train, y_test = train_test_split(X, y, test_size = 0.2, random_state = 45)\n",
    "bm_x_train, bm_x_test, bm_y_train, bm_y_test = train_test_split(bm_X, bm_y, test_size = 0.2, random_state = 45)\n",
    "\n",
    "print(\"Shapes of train data :\")\n",
    "print(x_train.shape)\n",
    "print(x_test.shape)\n",
    "print(y_train.shape)\n",
    "print(y_test.shape)\n",
    "\n",
    "print(\"Shapes of benchmark data :\")\n",
    "print(bm_x_train.shape)\n",
    "print(bm_x_test.shape)\n",
    "print(bm_y_train.shape)\n",
    "print(bm_y_test.shape)"
   ]
  },
  {
   "cell_type": "markdown",
   "metadata": {},
   "source": [
    "## Standardizing the data by performing scaling"
   ]
  },
  {
   "cell_type": "code",
   "execution_count": 34,
   "metadata": {
    "colab": {},
    "colab_type": "code",
    "id": "YCALP1HmogQb"
   },
   "outputs": [],
   "source": [
    "from sklearn.preprocessing import MinMaxScaler\n",
    "\n",
    "# creating a scaler\n",
    "mm = MinMaxScaler()\n",
    "\n",
    "# scaling the independent variables\n",
    "x_train = mm.fit_transform(x_train)\n",
    "x_test = mm.transform(x_test)\n",
    "\n",
    "bm_x_train = mm.fit_transform(bm_x_train)\n",
    "bm_x_test = mm.transform(bm_x_test)\n",
    "\n",
    "X = mm.fit_transform(X)"
   ]
  },
  {
   "cell_type": "markdown",
   "metadata": {},
   "source": [
    "## Creating a results dataframe which will allow us to compare the results after all the model are trained and evaluated"
   ]
  },
  {
   "cell_type": "code",
   "execution_count": 35,
   "metadata": {},
   "outputs": [],
   "source": [
    "results = pd.DataFrame(columns = [\"model_name\",\"MSE\",\"RMSE\",\"r2_score\"])\n",
    "\n",
    "bm_results = pd.DataFrame(columns = [\"model_name\",\"MSE\",\"RMSE\",\"r2_score\"])"
   ]
  },
  {
   "cell_type": "markdown",
   "metadata": {},
   "source": [
    "## Importing all the models that I will be using for the comparison"
   ]
  },
  {
   "cell_type": "code",
   "execution_count": 36,
   "metadata": {},
   "outputs": [],
   "source": [
    "from sklearn.experimental import enable_hist_gradient_boosting\n",
    "\n",
    "from sklearn.linear_model import LinearRegression, Lasso, ElasticNet, SGDRegressor, Ridge\n",
    "from sklearn.ensemble import RandomForestRegressor,AdaBoostRegressor,GradientBoostingRegressor\n",
    "from sklearn.ensemble import ExtraTreesRegressor,HistGradientBoostingRegressor,BaggingRegressor\n",
    "from sklearn.tree import DecisionTreeRegressor\n",
    "from xgboost import XGBRegressor\n",
    "\n",
    "from sklearn.metrics import r2_score"
   ]
  },
  {
   "cell_type": "markdown",
   "metadata": {},
   "source": [
    "## Creating and training the above imported model\n",
    "### The models created in order are :\n",
    "- Linear Regression\n",
    "- Losso\n",
    "- Elastic Net\n",
    "- SGD Regressor\n",
    "- Ridge\n",
    "- Random Forest Regressor\n",
    "- Ada Boost Regressor\n",
    "- Gradient Boosting Regressor\n",
    "- Extra Trees Regressor\n",
    "- Histogram Gradient Boosting Regressor\n",
    "- BaggingRegressor\n",
    "- Decision Tree Regressor\n",
    "- XGBoost Regressor"
   ]
  },
  {
   "cell_type": "markdown",
   "metadata": {},
   "source": [
    "### Creating the benchmark model first.\n"
   ]
  },
  {
   "cell_type": "code",
   "execution_count": 37,
   "metadata": {},
   "outputs": [
    {
     "name": "stdout",
     "output_type": "stream",
     "text": [
      "Model : DecisionTreeRegressor()\n",
      "MSE : 192686.9692526345\n",
      "RMSE : 438.96123889545703\n",
      "r2_score : 0.7462256538832388\n"
     ]
    }
   ],
   "source": [
    "# creating the model\n",
    "model = DecisionTreeRegressor()\n",
    "print(\"Model :\",model)\n",
    "\n",
    "# feeding the training data into the model\n",
    "model.fit(bm_x_train, bm_y_train)\n",
    "\n",
    "# predicting the test set results\n",
    "y_pred = model.predict(bm_x_test)\n",
    "\n",
    "# calculating the mean squared error\n",
    "mse = np.mean((bm_y_test - y_pred)**2)\n",
    "print(\"MSE :\", mse)\n",
    "\n",
    "# calculating the root mean squared error\n",
    "rmse = np.sqrt(mse)\n",
    "print(\"RMSE :\", rmse)\n",
    "\n",
    "#calculating the r2 score\n",
    "r2 = r2_score(bm_y_test, y_pred)\n",
    "print(\"r2_score :\", r2)\n",
    "\n",
    "bm_results = bm_results.append({\"model_name\" : \"Desicion Tree Regressor\",\"MSE\":mse,\"RMSE\":rmse,\"r2_score\":r2},ignore_index=True)"
   ]
  },
  {
   "cell_type": "code",
   "execution_count": 38,
   "metadata": {
    "colab": {
     "base_uri": "https://localhost:8080/",
     "height": 68
    },
    "colab_type": "code",
    "id": "GpkVQMyOolP6",
    "outputId": "ffc78383-a854-4a28-eb23-035d49f68b73"
   },
   "outputs": [
    {
     "name": "stdout",
     "output_type": "stream",
     "text": [
      "Model : LinearRegression()\n",
      "MSE : 323457.46742730436\n",
      "RMSE : 568.733212875162\n",
      "r2_score : 0.5739971020805006\n"
     ]
    }
   ],
   "source": [
    "# creating the model\n",
    "model = LinearRegression()\n",
    "print(\"Model :\",model)\n",
    "\n",
    "# feeding the training data into the model\n",
    "model.fit(x_train, y_train)\n",
    "\n",
    "# predicting the test set results\n",
    "y_pred = model.predict(x_test)\n",
    "\n",
    "# calculating the mean squared error\n",
    "mse = np.mean((y_test - y_pred)**2)\n",
    "print(\"MSE :\", mse)\n",
    "\n",
    "# calculating the root mean squared error\n",
    "rmse = np.sqrt(mse)\n",
    "print(\"RMSE :\", rmse)\n",
    "\n",
    "#calculating the r2 score\n",
    "r2 = r2_score(y_test, y_pred)\n",
    "print(\"r2_score :\", r2)\n",
    "\n",
    "results = results.append({\"model_name\" : \"Linear Regression\",\"MSE\":mse,\"RMSE\":rmse,\"r2_score\":r2},ignore_index=True)"
   ]
  },
  {
   "cell_type": "code",
   "execution_count": 39,
   "metadata": {
    "colab": {
     "base_uri": "https://localhost:8080/",
     "height": 68
    },
    "colab_type": "code",
    "id": "xe2ZaU0E6_Y9",
    "outputId": "8e5d58f9-80fd-4859-f4fb-4b592cc6faac"
   },
   "outputs": [
    {
     "name": "stdout",
     "output_type": "stream",
     "text": [
      "Model : Lasso()\n",
      "MSE : 331537.8058447364\n",
      "RMSE : 575.7931971157147\n",
      "r2_score : 0.5633550612292721\n"
     ]
    }
   ],
   "source": [
    "# creating the model\n",
    "model = Lasso()\n",
    "print(\"Model :\",model)\n",
    "\n",
    "# feeding the training data into the model\n",
    "model.fit(x_train, y_train)\n",
    "\n",
    "# predicting the test set results\n",
    "y_pred = model.predict(x_test)\n",
    "# calculating the mean squared error\n",
    "mse = np.mean((y_test - y_pred)**2)\n",
    "print(\"MSE :\", mse)\n",
    "\n",
    "# calculating the root mean squared error\n",
    "rmse = np.sqrt(mse)\n",
    "print(\"RMSE :\", rmse)\n",
    "\n",
    "#calculating the r2 score\n",
    "r2 = r2_score(y_test, y_pred)\n",
    "print(\"r2_score :\", r2)\n",
    "\n",
    "results = results.append({\"model_name\" : \"Losso\",\"MSE\":mse,\"RMSE\":rmse,\"r2_score\":r2},ignore_index=True)"
   ]
  },
  {
   "cell_type": "code",
   "execution_count": 40,
   "metadata": {
    "colab": {
     "base_uri": "https://localhost:8080/",
     "height": 68
    },
    "colab_type": "code",
    "id": "-ZO92nfeJbMW",
    "outputId": "135b1320-5335-46d1-8893-5c3958b44514"
   },
   "outputs": [
    {
     "name": "stdout",
     "output_type": "stream",
     "text": [
      "Model : ElasticNet()\n",
      "MSE : 721017.4911083961\n",
      "RMSE : 849.1274881361433\n",
      "r2_score : 0.050398981028764056\n"
     ]
    }
   ],
   "source": [
    "# creating the model\n",
    "model = ElasticNet()\n",
    "print(\"Model :\",model)\n",
    "# feeding the training data into the model\n",
    "model.fit(x_train, y_train)\n",
    "\n",
    "# predicting the test set results\n",
    "y_pred = model.predict(x_test)\n",
    "\n",
    "# calculating the mean squared error\n",
    "mse = np.mean((y_test - y_pred)**2)\n",
    "print(\"MSE :\", mse)\n",
    "\n",
    "# calculating the root mean squared error\n",
    "rmse = np.sqrt(mse)\n",
    "print(\"RMSE :\", rmse)\n",
    "\n",
    "#calculating the r2 score\n",
    "r2 = r2_score(y_test, y_pred)\n",
    "print(\"r2_score :\", r2)\n",
    "\n",
    "results = results.append({\"model_name\" : \"Elastic Net\",\"MSE\":mse,\"RMSE\":rmse,\"r2_score\":r2},ignore_index=True)"
   ]
  },
  {
   "cell_type": "code",
   "execution_count": 41,
   "metadata": {
    "colab": {
     "base_uri": "https://localhost:8080/",
     "height": 68
    },
    "colab_type": "code",
    "id": "DakYsoVnKuRf",
    "outputId": "5bd5f12e-1725-4b4e-b449-c1acdf627cec"
   },
   "outputs": [
    {
     "name": "stdout",
     "output_type": "stream",
     "text": [
      "Model : SGDRegressor()\n",
      "MSE : 326719.4720732541\n",
      "RMSE : 571.593799890494\n",
      "r2_score : 0.5697009470303355\n"
     ]
    }
   ],
   "source": [
    "# creating the model\n",
    "model = SGDRegressor() \n",
    "print(\"Model :\",model)\n",
    "# feeding the training data into the model\n",
    "model.fit(x_train, y_train)\n",
    "\n",
    "# predicting the test set results\n",
    "y_pred = model.predict(x_test)\n",
    "\n",
    "# calculating the mean squared error\n",
    "mse = np.mean((y_test - y_pred)**2)\n",
    "print(\"MSE :\", mse)\n",
    "\n",
    "# calculating the root mean squared error\n",
    "rmse = np.sqrt(mse)\n",
    "print(\"RMSE :\", rmse)\n",
    "\n",
    "#calculating the r2 score\n",
    "r2 = r2_score(y_test, y_pred)\n",
    "print(\"r2_score :\", r2)\n",
    "\n",
    "results = results.append({\"model_name\" : \"SGD Regressor\",\"MSE\":mse,\"RMSE\":rmse,\"r2_score\":r2},ignore_index=True)"
   ]
  },
  {
   "cell_type": "code",
   "execution_count": 42,
   "metadata": {
    "colab": {
     "base_uri": "https://localhost:8080/",
     "height": 68
    },
    "colab_type": "code",
    "id": "Z2csM9rPQ1Ur",
    "outputId": "084e863f-651c-4657-ec42-9279b8cc2511"
   },
   "outputs": [
    {
     "name": "stdout",
     "output_type": "stream",
     "text": [
      "Model : Ridge()\n",
      "MSE : 323724.0414027537\n",
      "RMSE : 568.9675222741222\n",
      "r2_score : 0.5736460163969498\n"
     ]
    }
   ],
   "source": [
    "# creating the model\n",
    "model = Ridge()\n",
    "print(\"Model :\",model)\n",
    "# feeding the training data into the model\n",
    "model.fit(x_train, y_train)\n",
    "\n",
    "# predicting the test set results\n",
    "y_pred = model.predict(x_test)\n",
    "\n",
    "# calculating the mean squared error\n",
    "mse = np.mean((y_test - y_pred)**2)\n",
    "print(\"MSE :\", mse)\n",
    "\n",
    "# calculating the root mean squared error\n",
    "rmse = np.sqrt(mse)\n",
    "print(\"RMSE :\", rmse)\n",
    "\n",
    "#calculating the r2 score\n",
    "r2 = r2_score(y_test, y_pred)\n",
    "print(\"r2_score :\", r2)\n",
    "\n",
    "results = results.append({\"model_name\" : \"Ridge\",\"MSE\":mse,\"RMSE\":rmse,\"r2_score\":r2},ignore_index=True)"
   ]
  },
  {
   "cell_type": "code",
   "execution_count": 43,
   "metadata": {
    "colab": {
     "base_uri": "https://localhost:8080/",
     "height": 68
    },
    "colab_type": "code",
    "id": "5eLZIpcjr3-_",
    "outputId": "ca6c778e-a5cd-442e-ac42-26b34724d3b6"
   },
   "outputs": [
    {
     "name": "stdout",
     "output_type": "stream",
     "text": [
      "Model : RandomForestRegressor()\n",
      "MSE : 6786.241055574044\n",
      "RMSE : 82.3786444145207\n",
      "r2_score : 0.991062323035394\n"
     ]
    }
   ],
   "source": [
    "# creating the model\n",
    "model = RandomForestRegressor()\n",
    "print(\"Model :\",model)\n",
    "\n",
    "# feeding the training data into the model\n",
    "model.fit(x_train, y_train)\n",
    "\n",
    "# predicting the test set results\n",
    "y_pred = model.predict(x_test)\n",
    "\n",
    "# calculating the mean squared error\n",
    "mse = np.mean((y_test - y_pred)**2)\n",
    "print(\"MSE :\", mse)\n",
    "\n",
    "# calculating the root mean squared error\n",
    "rmse = np.sqrt(mse)\n",
    "print(\"RMSE :\", rmse)\n",
    "\n",
    "#calculating the r2 score\n",
    "r2 = r2_score(y_test, y_pred)\n",
    "print(\"r2_score :\", r2)\n",
    "\n",
    "results = results.append({\"model_name\" : \"Random Forest Regressor\",\"MSE\":mse,\"RMSE\":rmse,\"r2_score\":r2},ignore_index=True)"
   ]
  },
  {
   "cell_type": "code",
   "execution_count": 44,
   "metadata": {
    "colab": {
     "base_uri": "https://localhost:8080/",
     "height": 68
    },
    "colab_type": "code",
    "id": "xaDCqjL44ozx",
    "outputId": "542aafb8-6835-45ec-dd7d-bb4846d42c89"
   },
   "outputs": [
    {
     "name": "stdout",
     "output_type": "stream",
     "text": [
      "Model : AdaBoostRegressor()\n",
      "MSE : 180839.5177422864\n",
      "RMSE : 425.2522989265154\n",
      "r2_score : 0.7618290923090446\n"
     ]
    }
   ],
   "source": [
    "# creating the model\n",
    "model = AdaBoostRegressor()\n",
    "print(\"Model :\",model)\n",
    "\n",
    "# feeding the training data into the model\n",
    "model.fit(x_train, y_train)\n",
    "y_pred = model.predict(x_test)\n",
    "\n",
    "# calculating the mean squared error\n",
    "mse = np.mean((y_test - y_pred)**2)\n",
    "print(\"MSE :\", mse)\n",
    "\n",
    "# calculating the root mean squared error\n",
    "rmse = np.sqrt(mse)\n",
    "print(\"RMSE :\", rmse)\n",
    "\n",
    "#calculating the r2 score\n",
    "r2 = r2_score(y_test, y_pred)\n",
    "print(\"r2_score :\", r2)\n",
    "\n",
    "results = results.append({\"model_name\" : \"Ada Boost Regressor\",\"MSE\":mse,\"RMSE\":rmse,\"r2_score\":r2},ignore_index=True)"
   ]
  },
  {
   "cell_type": "code",
   "execution_count": 45,
   "metadata": {
    "colab": {
     "base_uri": "https://localhost:8080/",
     "height": 68
    },
    "colab_type": "code",
    "id": "XwQH6B7d41DZ",
    "outputId": "4db13a3c-4d67-4e70-8fd2-97f021fa766e"
   },
   "outputs": [
    {
     "name": "stdout",
     "output_type": "stream",
     "text": [
      "Model : GradientBoostingRegressor()\n",
      "MSE : 69556.22781878189\n",
      "RMSE : 263.735147105542\n",
      "r2_score : 0.9083924237247376\n"
     ]
    }
   ],
   "source": [
    "# creating the model\n",
    "model = GradientBoostingRegressor()\n",
    "print(\"Model :\",model)\n",
    "\n",
    "# feeding the training data into the model\n",
    "model.fit(x_train, y_train)\n",
    "\n",
    "# predicting the test set results\n",
    "y_pred = model.predict(x_test)\n",
    "\n",
    "# calculating the mean squared error\n",
    "mse = np.mean((y_test - y_pred)**2)\n",
    "print(\"MSE :\", mse)\n",
    "\n",
    "# calculating the root mean squared error\n",
    "rmse = np.sqrt(mse)\n",
    "print(\"RMSE :\", rmse)\n",
    "\n",
    "#calculating the r2 score\n",
    "r2 = r2_score(y_test, y_pred)\n",
    "print(\"r2_score :\", r2)\n",
    "\n",
    "results = results.append({\"model_name\" : \"Gradient Boosting Regressor\",\"MSE\":mse,\"RMSE\":rmse,\"r2_score\":r2},ignore_index=True)"
   ]
  },
  {
   "cell_type": "code",
   "execution_count": 46,
   "metadata": {
    "colab": {
     "base_uri": "https://localhost:8080/",
     "height": 68
    },
    "colab_type": "code",
    "id": "lEc9v39u6OFs",
    "outputId": "b82ea114-a3fc-4c18-da0b-a53c5515764e"
   },
   "outputs": [
    {
     "name": "stdout",
     "output_type": "stream",
     "text": [
      "Model : ExtraTreesRegressor()\n",
      "MSE : 3971.0877698070967\n",
      "RMSE : 63.0165674232348\n",
      "r2_score : 0.9947699618398493\n"
     ]
    }
   ],
   "source": [
    "# creating the model\n",
    "model = ExtraTreesRegressor()\n",
    "print(\"Model :\",model)\n",
    "\n",
    "# feeding the training data into the model\n",
    "model.fit(x_train, y_train)\n",
    "\n",
    "\n",
    "y_pred = model.predict(x_test)\n",
    "# calculating the mean squared error\n",
    "mse = np.mean((y_test - y_pred)**2)\n",
    "print(\"MSE :\", mse)\n",
    "\n",
    "# calculating the root mean squared error\n",
    "rmse = np.sqrt(mse)\n",
    "print(\"RMSE :\", rmse)\n",
    "\n",
    "#calculating the r2 score\n",
    "r2 = r2_score(y_test, y_pred)\n",
    "print(\"r2_score :\", r2)\n",
    "\n",
    "results = results.append({\"model_name\" : \"Extra Trees Regressor\",\"MSE\":mse,\"RMSE\":rmse,\"r2_score\":r2},ignore_index=True)"
   ]
  },
  {
   "cell_type": "code",
   "execution_count": 47,
   "metadata": {
    "colab": {
     "base_uri": "https://localhost:8080/",
     "height": 68
    },
    "colab_type": "code",
    "id": "5p18HPI_6p7e",
    "outputId": "6edc4bfd-6f3f-4431-eaaa-15cd6180e394"
   },
   "outputs": [
    {
     "name": "stdout",
     "output_type": "stream",
     "text": [
      "Model : HistGradientBoostingRegressor()\n",
      "MSE : 18416.87333768427\n",
      "RMSE : 135.70878135803986\n",
      "r2_score : 0.9757444418430898\n"
     ]
    }
   ],
   "source": [
    "# creating the model\n",
    "model = HistGradientBoostingRegressor()\n",
    "print(\"Model :\",model)\n",
    "\n",
    "# feeding the training data into the model\n",
    "model.fit(x_train, y_train)\n",
    "\n",
    "# predicting the test set results\n",
    "y_pred = model.predict(x_test)\n",
    "# calculating the mean squared error\n",
    "mse = np.mean((y_test - y_pred)**2)\n",
    "print(\"MSE :\", mse)\n",
    "\n",
    "# calculating the root mean squared error\n",
    "rmse = np.sqrt(mse)\n",
    "print(\"RMSE :\", rmse)\n",
    "\n",
    "#calculating the r2 score\n",
    "r2 = r2_score(y_test, y_pred)\n",
    "print(\"r2_score :\", r2)\n",
    "\n",
    "results = results.append({\"model_name\" : \"Histogram Gradient Boosting Regressor\",\"MSE\":mse,\"RMSE\":rmse,\"r2_score\":r2},ignore_index=True)"
   ]
  },
  {
   "cell_type": "code",
   "execution_count": 48,
   "metadata": {
    "colab": {
     "base_uri": "https://localhost:8080/",
     "height": 85
    },
    "colab_type": "code",
    "id": "4oa7uUCP-UOu",
    "outputId": "49453282-7c6b-4b8b-91ca-96465b828a81"
   },
   "outputs": [
    {
     "name": "stdout",
     "output_type": "stream",
     "text": [
      "Model : BaggingRegressor()\n",
      "MSE : 9774.081810870772\n",
      "RMSE : 98.8639560753603\n",
      "r2_score : 0.9871272498079859\n"
     ]
    }
   ],
   "source": [
    "# creating the model\n",
    "model = BaggingRegressor()\n",
    "print(\"Model :\",model)\n",
    "\n",
    "# feeding the training data into the model\n",
    "model.fit(x_train, y_train)\n",
    "\n",
    "# predicting the test set results\n",
    "y_pred = model.predict(x_test)\n",
    "# calculating the mean squared error\n",
    "mse = np.mean((y_test - y_pred)**2)\n",
    "print(\"MSE :\", mse)\n",
    "\n",
    "# calculating the root mean squared error\n",
    "rmse = np.sqrt(mse)\n",
    "print(\"RMSE :\", rmse)\n",
    "\n",
    "#calculating the r2 score\n",
    "r2 = r2_score(y_test, y_pred)\n",
    "print(\"r2_score :\", r2)\n",
    "\n",
    "results = results.append({\"model_name\" : \"Bagging Regressor\",\"MSE\":mse,\"RMSE\":rmse,\"r2_score\":r2},ignore_index=True)"
   ]
  },
  {
   "cell_type": "code",
   "execution_count": 49,
   "metadata": {
    "colab": {
     "base_uri": "https://localhost:8080/",
     "height": 85
    },
    "colab_type": "code",
    "id": "st6aEvwpr8c_",
    "outputId": "b6771c28-2b9c-4efc-9dff-b3b3739438a8"
   },
   "outputs": [
    {
     "name": "stdout",
     "output_type": "stream",
     "text": [
      "Model : DecisionTreeRegressor()\n",
      "MSE : 9895.576539101497\n",
      "RMSE : 99.4765124996926\n",
      "r2_score : 0.9869672377151445\n"
     ]
    }
   ],
   "source": [
    "# creating the model\n",
    "model = DecisionTreeRegressor()\n",
    "print(\"Model :\",model)\n",
    "\n",
    "# feeding the training data into the model\n",
    "model.fit(x_train, y_train)\n",
    "\n",
    "# predicting the test set results\n",
    "y_pred = model.predict(x_test)\n",
    "\n",
    "# calculating the mean squared error\n",
    "mse = np.mean((y_test - y_pred)**2)\n",
    "print(\"MSE :\", mse)\n",
    "\n",
    "# calculating the root mean squared error\n",
    "rmse = np.sqrt(mse)\n",
    "print(\"RMSE :\", rmse)\n",
    "\n",
    "#calculating the r2 score\n",
    "r2 = r2_score(y_test, y_pred)\n",
    "print(\"r2_score :\", r2)\n",
    "\n",
    "results = results.append({\"model_name\" : \"Desicion Tree Regressor\",\"MSE\":mse,\"RMSE\":rmse,\"r2_score\":r2},ignore_index=True)"
   ]
  },
  {
   "cell_type": "code",
   "execution_count": 50,
   "metadata": {
    "colab": {
     "base_uri": "https://localhost:8080/",
     "height": 68
    },
    "colab_type": "code",
    "id": "OO_FqwF4_YlY",
    "outputId": "d297492b-d4db-472e-8309-0dd5f95a535f"
   },
   "outputs": [
    {
     "name": "stdout",
     "output_type": "stream",
     "text": [
      "Model : XGBRegressor(base_score=None, booster=None, colsample_bylevel=None,\n",
      "             colsample_bynode=None, colsample_bytree=None, gamma=None,\n",
      "             gpu_id=None, importance_type='gain', interaction_constraints=None,\n",
      "             learning_rate=None, max_delta_step=None, max_depth=None,\n",
      "             min_child_weight=None, missing=nan, monotone_constraints=None,\n",
      "             n_estimators=100, n_jobs=None, num_parallel_tree=None,\n",
      "             random_state=None, reg_alpha=None, reg_lambda=None,\n",
      "             scale_pos_weight=None, subsample=None, tree_method=None,\n",
      "             validate_parameters=None, verbosity=None)\n",
      "MSE : 8641.591981077921\n",
      "RMSE : 92.9601634092686\n",
      "r2_score : 0.9886187718717471\n"
     ]
    }
   ],
   "source": [
    "# creating the model\n",
    "model = XGBRegressor()\n",
    "print(\"Model :\",model)\n",
    "\n",
    "# feeding the training data into the model\n",
    "model.fit(x_train, y_train)\n",
    "\n",
    "# predicting the test set results\n",
    "y_pred = model.predict(x_test)\n",
    "# calculating the mean squared error\n",
    "mse = np.mean((y_test - y_pred)**2)\n",
    "print(\"MSE :\", mse)\n",
    "\n",
    "# calculating the root mean squared error\n",
    "rmse = np.sqrt(mse)\n",
    "print(\"RMSE :\", rmse)\n",
    "\n",
    "#calculating the r2 score\n",
    "r2 = r2_score(y_test, y_pred)\n",
    "print(\"r2_score :\", r2)\n",
    "\n",
    "results = results.append({\"model_name\" : \"XGBoost Regressor\",\"MSE\":mse,\"RMSE\":rmse,\"r2_score\":r2},ignore_index=True)"
   ]
  },
  {
   "cell_type": "code",
   "execution_count": 51,
   "metadata": {
    "colab": {
     "base_uri": "https://localhost:8080/",
     "height": 374
    },
    "colab_type": "code",
    "id": "foGF39oyNuVA",
    "outputId": "db428cbc-b460-47ff-c9b4-8b63bfe9eff7"
   },
   "outputs": [
    {
     "data": {
      "text/html": [
       "<div>\n",
       "<style scoped>\n",
       "    .dataframe tbody tr th:only-of-type {\n",
       "        vertical-align: middle;\n",
       "    }\n",
       "\n",
       "    .dataframe tbody tr th {\n",
       "        vertical-align: top;\n",
       "    }\n",
       "\n",
       "    .dataframe thead th {\n",
       "        text-align: right;\n",
       "    }\n",
       "</style>\n",
       "<table border=\"1\" class=\"dataframe\">\n",
       "  <thead>\n",
       "    <tr style=\"text-align: right;\">\n",
       "      <th></th>\n",
       "      <th>model_name</th>\n",
       "      <th>MSE</th>\n",
       "      <th>RMSE</th>\n",
       "      <th>r2_score</th>\n",
       "    </tr>\n",
       "  </thead>\n",
       "  <tbody>\n",
       "    <tr>\n",
       "      <th>0</th>\n",
       "      <td>Linear Regression</td>\n",
       "      <td>323457.467427</td>\n",
       "      <td>568.733213</td>\n",
       "      <td>0.573997</td>\n",
       "    </tr>\n",
       "    <tr>\n",
       "      <th>1</th>\n",
       "      <td>Losso</td>\n",
       "      <td>331537.805845</td>\n",
       "      <td>575.793197</td>\n",
       "      <td>0.563355</td>\n",
       "    </tr>\n",
       "    <tr>\n",
       "      <th>2</th>\n",
       "      <td>Elastic Net</td>\n",
       "      <td>721017.491108</td>\n",
       "      <td>849.127488</td>\n",
       "      <td>0.050399</td>\n",
       "    </tr>\n",
       "    <tr>\n",
       "      <th>3</th>\n",
       "      <td>SGD Regressor</td>\n",
       "      <td>326719.472073</td>\n",
       "      <td>571.593800</td>\n",
       "      <td>0.569701</td>\n",
       "    </tr>\n",
       "    <tr>\n",
       "      <th>4</th>\n",
       "      <td>Ridge</td>\n",
       "      <td>323724.041403</td>\n",
       "      <td>568.967522</td>\n",
       "      <td>0.573646</td>\n",
       "    </tr>\n",
       "    <tr>\n",
       "      <th>5</th>\n",
       "      <td>Random Forest Regressor</td>\n",
       "      <td>6786.241056</td>\n",
       "      <td>82.378644</td>\n",
       "      <td>0.991062</td>\n",
       "    </tr>\n",
       "    <tr>\n",
       "      <th>6</th>\n",
       "      <td>Ada Boost Regressor</td>\n",
       "      <td>180839.517742</td>\n",
       "      <td>425.252299</td>\n",
       "      <td>0.761829</td>\n",
       "    </tr>\n",
       "    <tr>\n",
       "      <th>7</th>\n",
       "      <td>Gradient Boosting Regressor</td>\n",
       "      <td>69556.227819</td>\n",
       "      <td>263.735147</td>\n",
       "      <td>0.908392</td>\n",
       "    </tr>\n",
       "    <tr>\n",
       "      <th>8</th>\n",
       "      <td>Extra Trees Regressor</td>\n",
       "      <td>3971.087770</td>\n",
       "      <td>63.016567</td>\n",
       "      <td>0.994770</td>\n",
       "    </tr>\n",
       "    <tr>\n",
       "      <th>9</th>\n",
       "      <td>Histogram Gradient Boosting Regressor</td>\n",
       "      <td>18416.873338</td>\n",
       "      <td>135.708781</td>\n",
       "      <td>0.975744</td>\n",
       "    </tr>\n",
       "    <tr>\n",
       "      <th>10</th>\n",
       "      <td>Bagging Regressor</td>\n",
       "      <td>9774.081811</td>\n",
       "      <td>98.863956</td>\n",
       "      <td>0.987127</td>\n",
       "    </tr>\n",
       "    <tr>\n",
       "      <th>11</th>\n",
       "      <td>Desicion Tree Regressor</td>\n",
       "      <td>9895.576539</td>\n",
       "      <td>99.476512</td>\n",
       "      <td>0.986967</td>\n",
       "    </tr>\n",
       "    <tr>\n",
       "      <th>12</th>\n",
       "      <td>XGBoost Regressor</td>\n",
       "      <td>8641.591981</td>\n",
       "      <td>92.960163</td>\n",
       "      <td>0.988619</td>\n",
       "    </tr>\n",
       "  </tbody>\n",
       "</table>\n",
       "</div>"
      ],
      "text/plain": [
       "                               model_name            MSE        RMSE  r2_score\n",
       "0                       Linear Regression  323457.467427  568.733213  0.573997\n",
       "1                                   Losso  331537.805845  575.793197  0.563355\n",
       "2                             Elastic Net  721017.491108  849.127488  0.050399\n",
       "3                           SGD Regressor  326719.472073  571.593800  0.569701\n",
       "4                                   Ridge  323724.041403  568.967522  0.573646\n",
       "5                 Random Forest Regressor    6786.241056   82.378644  0.991062\n",
       "6                     Ada Boost Regressor  180839.517742  425.252299  0.761829\n",
       "7             Gradient Boosting Regressor   69556.227819  263.735147  0.908392\n",
       "8                   Extra Trees Regressor    3971.087770   63.016567  0.994770\n",
       "9   Histogram Gradient Boosting Regressor   18416.873338  135.708781  0.975744\n",
       "10                      Bagging Regressor    9774.081811   98.863956  0.987127\n",
       "11                Desicion Tree Regressor    9895.576539   99.476512  0.986967\n",
       "12                      XGBoost Regressor    8641.591981   92.960163  0.988619"
      ]
     },
     "execution_count": 51,
     "metadata": {},
     "output_type": "execute_result"
    }
   ],
   "source": [
    "results.head(20)"
   ]
  },
  {
   "cell_type": "code",
   "execution_count": 52,
   "metadata": {},
   "outputs": [
    {
     "data": {
      "text/html": [
       "<div>\n",
       "<style scoped>\n",
       "    .dataframe tbody tr th:only-of-type {\n",
       "        vertical-align: middle;\n",
       "    }\n",
       "\n",
       "    .dataframe tbody tr th {\n",
       "        vertical-align: top;\n",
       "    }\n",
       "\n",
       "    .dataframe thead th {\n",
       "        text-align: right;\n",
       "    }\n",
       "</style>\n",
       "<table border=\"1\" class=\"dataframe\">\n",
       "  <thead>\n",
       "    <tr style=\"text-align: right;\">\n",
       "      <th></th>\n",
       "      <th>model_name</th>\n",
       "      <th>MSE</th>\n",
       "      <th>RMSE</th>\n",
       "      <th>r2_score</th>\n",
       "    </tr>\n",
       "  </thead>\n",
       "  <tbody>\n",
       "    <tr>\n",
       "      <th>8</th>\n",
       "      <td>Extra Trees Regressor</td>\n",
       "      <td>3971.087770</td>\n",
       "      <td>63.016567</td>\n",
       "      <td>0.994770</td>\n",
       "    </tr>\n",
       "    <tr>\n",
       "      <th>5</th>\n",
       "      <td>Random Forest Regressor</td>\n",
       "      <td>6786.241056</td>\n",
       "      <td>82.378644</td>\n",
       "      <td>0.991062</td>\n",
       "    </tr>\n",
       "    <tr>\n",
       "      <th>12</th>\n",
       "      <td>XGBoost Regressor</td>\n",
       "      <td>8641.591981</td>\n",
       "      <td>92.960163</td>\n",
       "      <td>0.988619</td>\n",
       "    </tr>\n",
       "    <tr>\n",
       "      <th>10</th>\n",
       "      <td>Bagging Regressor</td>\n",
       "      <td>9774.081811</td>\n",
       "      <td>98.863956</td>\n",
       "      <td>0.987127</td>\n",
       "    </tr>\n",
       "    <tr>\n",
       "      <th>11</th>\n",
       "      <td>Desicion Tree Regressor</td>\n",
       "      <td>9895.576539</td>\n",
       "      <td>99.476512</td>\n",
       "      <td>0.986967</td>\n",
       "    </tr>\n",
       "    <tr>\n",
       "      <th>9</th>\n",
       "      <td>Histogram Gradient Boosting Regressor</td>\n",
       "      <td>18416.873338</td>\n",
       "      <td>135.708781</td>\n",
       "      <td>0.975744</td>\n",
       "    </tr>\n",
       "    <tr>\n",
       "      <th>7</th>\n",
       "      <td>Gradient Boosting Regressor</td>\n",
       "      <td>69556.227819</td>\n",
       "      <td>263.735147</td>\n",
       "      <td>0.908392</td>\n",
       "    </tr>\n",
       "    <tr>\n",
       "      <th>6</th>\n",
       "      <td>Ada Boost Regressor</td>\n",
       "      <td>180839.517742</td>\n",
       "      <td>425.252299</td>\n",
       "      <td>0.761829</td>\n",
       "    </tr>\n",
       "    <tr>\n",
       "      <th>0</th>\n",
       "      <td>Linear Regression</td>\n",
       "      <td>323457.467427</td>\n",
       "      <td>568.733213</td>\n",
       "      <td>0.573997</td>\n",
       "    </tr>\n",
       "    <tr>\n",
       "      <th>4</th>\n",
       "      <td>Ridge</td>\n",
       "      <td>323724.041403</td>\n",
       "      <td>568.967522</td>\n",
       "      <td>0.573646</td>\n",
       "    </tr>\n",
       "    <tr>\n",
       "      <th>3</th>\n",
       "      <td>SGD Regressor</td>\n",
       "      <td>326719.472073</td>\n",
       "      <td>571.593800</td>\n",
       "      <td>0.569701</td>\n",
       "    </tr>\n",
       "    <tr>\n",
       "      <th>1</th>\n",
       "      <td>Losso</td>\n",
       "      <td>331537.805845</td>\n",
       "      <td>575.793197</td>\n",
       "      <td>0.563355</td>\n",
       "    </tr>\n",
       "    <tr>\n",
       "      <th>2</th>\n",
       "      <td>Elastic Net</td>\n",
       "      <td>721017.491108</td>\n",
       "      <td>849.127488</td>\n",
       "      <td>0.050399</td>\n",
       "    </tr>\n",
       "  </tbody>\n",
       "</table>\n",
       "</div>"
      ],
      "text/plain": [
       "                               model_name            MSE        RMSE  r2_score\n",
       "8                   Extra Trees Regressor    3971.087770   63.016567  0.994770\n",
       "5                 Random Forest Regressor    6786.241056   82.378644  0.991062\n",
       "12                      XGBoost Regressor    8641.591981   92.960163  0.988619\n",
       "10                      Bagging Regressor    9774.081811   98.863956  0.987127\n",
       "11                Desicion Tree Regressor    9895.576539   99.476512  0.986967\n",
       "9   Histogram Gradient Boosting Regressor   18416.873338  135.708781  0.975744\n",
       "7             Gradient Boosting Regressor   69556.227819  263.735147  0.908392\n",
       "6                     Ada Boost Regressor  180839.517742  425.252299  0.761829\n",
       "0                       Linear Regression  323457.467427  568.733213  0.573997\n",
       "4                                   Ridge  323724.041403  568.967522  0.573646\n",
       "3                           SGD Regressor  326719.472073  571.593800  0.569701\n",
       "1                                   Losso  331537.805845  575.793197  0.563355\n",
       "2                             Elastic Net  721017.491108  849.127488  0.050399"
      ]
     },
     "execution_count": 52,
     "metadata": {},
     "output_type": "execute_result"
    }
   ],
   "source": [
    "results.sort_values(by='r2_score',ascending=False)"
   ]
  },
  {
   "cell_type": "code",
   "execution_count": 53,
   "metadata": {},
   "outputs": [
    {
     "data": {
      "image/png": "[encoded data removed]",
      "text/plain": [
       "<Figure size 432x288 with 1 Axes>"
      ]
     },
     "metadata": {},
     "output_type": "display_data"
    }
   ],
   "source": [
    "plt.style.use('seaborn-dark')\n",
    "plt.style.use('dark_background')\n",
    "sns.barplot(x = \"model_name\", y = \"MSE\" , data = results.sort_values(by = \"MSE\", ascending = True), palette = 'winter')\n",
    "plt.title('Comparison of MSE values of different models(Lower the better)', fontsize = 20)\n",
    "plt.xlabel('Name of Models')\n",
    "plt.xticks(rotation = 90)\n",
    "plt.ylabel('Count')\n",
    "plt.rcParams['figure.figsize'] = (15, 9)\n",
    "plt.rcParams['font.size'] = 19\n",
    "plt.show()"
   ]
  },
  {
   "cell_type": "code",
   "execution_count": 54,
   "metadata": {},
   "outputs": [
    {
     "data": {
      "image/png": "[encoded data removed]",
      "text/plain": [
       "<Figure size 1080x648 with 1 Axes>"
      ]
     },
     "metadata": {},
     "output_type": "display_data"
    }
   ],
   "source": [
    "plt.style.use('seaborn-dark')\n",
    "plt.style.use('dark_background')\n",
    "sns.barplot(x = \"model_name\", y = \"RMSE\" , data = results.sort_values(by = \"RMSE\", ascending = True), palette = 'winter')\n",
    "plt.title('Comparison of RMSE values of different models.(Lower the better)', fontsize = 20)\n",
    "plt.xlabel('Name of Models')\n",
    "plt.xticks(rotation = 90)\n",
    "plt.ylabel('Count')\n",
    "plt.rcParams['figure.figsize'] = (15, 9)\n",
    "plt.show()"
   ]
  },
  {
   "cell_type": "code",
   "execution_count": 55,
   "metadata": {},
   "outputs": [
    {
     "data": {
      "image/png": "[encoded data removed]",
      "text/plain": [
       "<Figure size 1080x648 with 1 Axes>"
      ]
     },
     "metadata": {},
     "output_type": "display_data"
    }
   ],
   "source": [
    "plt.style.use('seaborn-dark')\n",
    "plt.style.use('dark_background')\n",
    "sns.barplot(x = \"model_name\", y = \"r2_score\" , data = results.sort_values(by = \"r2_score\", ascending = False), palette = 'winter')\n",
    "plt.title('Comparison of R2 score of models.(Higher the better)', fontsize = 20)\n",
    "plt.xlabel('Name of Models')\n",
    "plt.xticks(rotation = 90)\n",
    "plt.ylabel('Count')\n",
    "plt.rcParams['figure.figsize'] = (15, 9)\n",
    "plt.show()"
   ]
  },
  {
   "cell_type": "markdown",
   "metadata": {},
   "source": [
    "## According to the results we can see that Extra Trees Regressor Performs the best. Now lets try to finetune the hyperparameters"
   ]
  },
  {
   "cell_type": "code",
   "execution_count": 72,
   "metadata": {},
   "outputs": [
    {
     "name": "stdout",
     "output_type": "stream",
     "text": [
      "Model : ExtraTreesRegressor(n_estimators=115, n_jobs=10)\n",
      "MSE : 3830.393082107169\n",
      "RMSE : 61.89016951105538\n",
      "r2_score : 0.9949552608380724\n"
     ]
    }
   ],
   "source": [
    "# creating the model\n",
    "model = ExtraTreesRegressor(n_estimators = 115, n_jobs = 10)\n",
    "print(\"Model :\",model)\n",
    "\n",
    "# feeding the training data into the model\n",
    "model.fit(x_train, y_train)\n",
    "\n",
    "# predicting the test set results\n",
    "y_pred = model.predict(x_test)\n",
    "# calculating the mean squared error\n",
    "mse = np.mean((y_test - y_pred)**2)\n",
    "print(\"MSE :\", mse)\n",
    "\n",
    "# calculating the root mean squared error\n",
    "rmse = np.sqrt(mse)\n",
    "print(\"RMSE :\", rmse)\n",
    "\n",
    "#calculating the r2 score\n",
    "r2 = r2_score(y_test, y_pred)\n",
    "print(\"r2_score :\", r2)"
   ]
  },
  {
   "cell_type": "code",
   "execution_count": 77,
   "metadata": {},
   "outputs": [],
   "source": [
    "bm_results = bm_results.append({\"model_name\" : \"Tuned Extra Trees Regressor\",\"MSE\":mse,\"RMSE\":rmse,\"r2_score\":r2},ignore_index=True)"
   ]
  },
  {
   "cell_type": "code",
   "execution_count": 78,
   "metadata": {},
   "outputs": [
    {
     "data": {
      "text/html": [
       "<div>\n",
       "<style scoped>\n",
       "    .dataframe tbody tr th:only-of-type {\n",
       "        vertical-align: middle;\n",
       "    }\n",
       "\n",
       "    .dataframe tbody tr th {\n",
       "        vertical-align: top;\n",
       "    }\n",
       "\n",
       "    .dataframe thead th {\n",
       "        text-align: right;\n",
       "    }\n",
       "</style>\n",
       "<table border=\"1\" class=\"dataframe\">\n",
       "  <thead>\n",
       "    <tr style=\"text-align: right;\">\n",
       "      <th></th>\n",
       "      <th>model_name</th>\n",
       "      <th>MSE</th>\n",
       "      <th>RMSE</th>\n",
       "      <th>r2_score</th>\n",
       "    </tr>\n",
       "  </thead>\n",
       "  <tbody>\n",
       "    <tr>\n",
       "      <th>0</th>\n",
       "      <td>Desicion Tree Regressor</td>\n",
       "      <td>192686.969253</td>\n",
       "      <td>438.961239</td>\n",
       "      <td>0.746226</td>\n",
       "    </tr>\n",
       "    <tr>\n",
       "      <th>1</th>\n",
       "      <td>Tuned Extra Trees Regressor</td>\n",
       "      <td>3830.393082</td>\n",
       "      <td>61.890170</td>\n",
       "      <td>0.994955</td>\n",
       "    </tr>\n",
       "  </tbody>\n",
       "</table>\n",
       "</div>"
      ],
      "text/plain": [
       "                    model_name            MSE        RMSE  r2_score\n",
       "0      Desicion Tree Regressor  192686.969253  438.961239  0.746226\n",
       "1  Tuned Extra Trees Regressor    3830.393082   61.890170  0.994955"
      ]
     },
     "execution_count": 78,
     "metadata": {},
     "output_type": "execute_result"
    }
   ],
   "source": [
    "bm_results.head()"
   ]
  },
  {
   "cell_type": "code",
   "execution_count": 79,
   "metadata": {},
   "outputs": [
    {
     "data": {
      "image/png": "[encoded data removed]",
      "text/plain": [
       "<Figure size 1080x360 with 1 Axes>"
      ]
     },
     "metadata": {},
     "output_type": "display_data"
    }
   ],
   "source": [
    "plt.style.use('seaborn-dark')\n",
    "plt.style.use('dark_background')\n",
    "sns.barplot(x = \"model_name\", y = \"MSE\" , data = bm_results.sort_values(by = \"MSE\", ascending = True), palette = 'winter')\n",
    "plt.title('Comparison of MSE values of the 2 models (Lower the better)', fontsize = 20)\n",
    "plt.xlabel('Name of Models')\n",
    "plt.ylabel('Count')\n",
    "plt.rcParams['figure.figsize'] = (15, 5)\n",
    "plt.rcParams['font.size'] = 19\n",
    "plt.show()"
   ]
  },
  {
   "cell_type": "code",
   "execution_count": 80,
   "metadata": {},
   "outputs": [
    {
     "data": {
      "image/png": "[encoded data removed]",
      "text/plain": [
       "<Figure size 1080x360 with 1 Axes>"
      ]
     },
     "metadata": {},
     "output_type": "display_data"
    }
   ],
   "source": [
    "plt.style.use('seaborn-dark')\n",
    "plt.style.use('dark_background')\n",
    "sns.barplot(x = \"model_name\", y = \"RMSE\" , data = bm_results.sort_values(by = \"RMSE\", ascending = True), palette = 'winter')\n",
    "plt.title('Comparison of RMSE values of the 2 models (Lower the better)', fontsize = 20)\n",
    "plt.xlabel('Name of Models')\n",
    "plt.ylabel('Count')\n",
    "plt.rcParams['figure.figsize'] = (15, 5)\n",
    "plt.rcParams['font.size'] = 19\n",
    "plt.show()"
   ]
  },
  {
   "cell_type": "code",
   "execution_count": 81,
   "metadata": {},
   "outputs": [
    {
     "data": {
      "image/png": "[encoded data removed]",
      "text/plain": [
       "<Figure size 1080x360 with 1 Axes>"
      ]
     },
     "metadata": {},
     "output_type": "display_data"
    }
   ],
   "source": [
    "plt.style.use('seaborn-dark')\n",
    "plt.style.use('dark_background')\n",
    "sns.barplot(x = \"model_name\", y = \"r2_score\" , data = bm_results.sort_values(by = \"r2_score\", ascending = True), palette = 'winter')\n",
    "plt.title('Comparison of R2 score values of the 2 models (Higher the better)', fontsize = 20)\n",
    "plt.xlabel('Name of Models')\n",
    "plt.ylabel('Count')\n",
    "plt.rcParams['figure.figsize'] = (15, 5)\n",
    "plt.rcParams['font.size'] = 19\n",
    "plt.show()"
   ]
  },
  {
   "cell_type": "markdown",
   "metadata": {},
   "source": [
    "## To check for overfitting lets evaluate it with K fold cross validation"
   ]
  },
  {
   "cell_type": "code",
   "execution_count": 82,
   "metadata": {},
   "outputs": [
    {
     "name": "stdout",
     "output_type": "stream",
     "text": [
      "The scores of the 10 models are : \n",
      "0.9536227648442362 0.9550923538233197 0.9624366358291221 0.9692014511448319 0.9951356206446449 0.9969186767333419 0.9972895463628817 0.9971920344516882 0.9960318832958439 0.9871243844266187\n",
      "Mean of the scores is : 0.9810045351556529\n"
     ]
    }
   ],
   "source": [
    "from sklearn.model_selection import cross_val_score\n",
    "\n",
    "scores = cross_val_score(model, X, y, cv=10)\n",
    "print(\"The scores of the 10 models are : \")\n",
    "print(*scores)\n",
    "print(\"Mean of the scores is :\",scores.mean())"
   ]
  },
  {
   "cell_type": "markdown",
   "metadata": {},
   "source": [
    "## We see that the model is not overfitted and gives consitant results. We will consider this as the best model"
   ]
  }
 ],
 "metadata": {
  "colab": {
   "collapsed_sections": [],
   "name": "sucide stats",
   "provenance": []
  },
  "kernelspec": {
   "display_name": "Python 3",
   "language": "python",
   "name": "python3"
  },
  "language_info": {
   "codemirror_mode": {
    "name": "ipython",
    "version": 3
   },
   "file_extension": ".py",
   "mimetype": "text/x-python",
   "name": "python",
   "nbconvert_exporter": "python",
   "pygments_lexer": "ipython3",
   "version": "3.8.2"
  }
 },
 "nbformat": 4,
 "nbformat_minor": 4
}
